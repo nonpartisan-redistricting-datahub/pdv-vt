{
 "cells": [
  {
   "cell_type": "code",
   "execution_count": 1,
   "id": "6f423a03",
   "metadata": {},
   "outputs": [],
   "source": [
    "import pandas as pd # standard python data library\n",
    "import geopandas as gp # the geo-version of pandas\n",
    "import numpy as np \n",
    "import os\n",
    "import fiona\n",
    "from statistics import mean, median\n",
    "from pandas import read_csv\n",
    "gp.io.file.fiona.drvsupport.supported_drivers['KML'] = 'rw' #To load KML files\n",
    "import string\n",
    "import xml.etree.ElementTree as et"
   ]
  },
  {
   "cell_type": "markdown",
   "id": "f0cd3df6",
   "metadata": {},
   "source": [
    "# Vermont"
   ]
  },
  {
   "cell_type": "markdown",
   "id": "3e4a0f8e",
   "metadata": {},
   "source": [
    "## Load VEST File"
   ]
  },
  {
   "cell_type": "code",
   "execution_count": 2,
   "id": "9c7845a2",
   "metadata": {},
   "outputs": [],
   "source": [
    "vest_vt_20 = gp.read_file(\"./raw-from-source/VEST/vt_2020/vt_2020.shp\")"
   ]
  },
  {
   "cell_type": "code",
   "execution_count": 3,
   "id": "bdec6464",
   "metadata": {
    "scrolled": true
   },
   "outputs": [
    {
     "data": {
      "text/plain": [
       "<AxesSubplot:>"
      ]
     },
     "execution_count": 3,
     "metadata": {},
     "output_type": "execute_result"
    },
    {
     "data": {
      "image/png": "[encoded data removed]",
      "text/plain": [
       "<Figure size 432x288 with 1 Axes>"
      ]
     },
     "metadata": {
      "needs_background": "light"
     },
     "output_type": "display_data"
    }
   ],
   "source": [
    "vest_vt_20.plot()"
   ]
  },
  {
   "cell_type": "code",
   "execution_count": 4,
   "id": "3543c206",
   "metadata": {},
   "outputs": [
    {
     "name": "stdout",
     "output_type": "stream",
     "text": [
      "    STATEFP20 COUNTYFP20                   NAME20  G20PREDBID  G20PRERTRU  \\\n",
      "0          50        001                  Whiting         124          84   \n",
      "1          50        001                New Haven         732         396   \n",
      "2          50        001                Salisbury         393         258   \n",
      "3          50        001                   Orwell         367         351   \n",
      "4          50        001              Ferrisburgh        1202         561   \n",
      "..        ...        ...                      ...         ...         ...   \n",
      "279        50        019         Troy - Orleans 2          98         115   \n",
      "280        50        025            Westminster 4        1244         403   \n",
      "281        50        025            Westminster 3          59          26   \n",
      "282        50        025   Whitingham - Windham 6         372         319   \n",
      "283        50        025  Whitingham - Bennington          25          21   \n",
      "\n",
      "     G20PRELJOR  G20PREGHAW  G20PREIWES  G20PREOOTH  G20PREOSAN  ...  \\\n",
      "0             1           0           0           7           1  ...   \n",
      "1            12           1           4          17           0  ...   \n",
      "2             8           0           1          13           2  ...   \n",
      "3             7           3           2          18           1  ...   \n",
      "4            22           9           4          15           6  ...   \n",
      "..          ...         ...         ...         ...         ...  ...   \n",
      "279           5           0           1           3           1  ...   \n",
      "280          11          12           5          17           5  ...   \n",
      "281           2           2           2           0           0  ...   \n",
      "282          21           2           1          10           0  ...   \n",
      "283           1           0           0           0           0  ...   \n",
      "\n",
      "     G20SOSOWRI  G20TREDPEA  G20TRERBRA  G20TREPERI  G20TREIWRI  G20TREOWRI  \\\n",
      "0             1         102          83           7          13           0   \n",
      "1             2         637         404          36          47           2   \n",
      "2             0         343         245          13          36           0   \n",
      "3             0         315         337          18          48           0   \n",
      "4             4        1034         592          59          68           0   \n",
      "..          ...         ...         ...         ...         ...         ...   \n",
      "279           0         100          98           3          15           0   \n",
      "280           0        1004         387         139          65           0   \n",
      "281           0          45          28           9           7           0   \n",
      "282           0         293         307          26          41           1   \n",
      "283           0          19          19           4           1           1   \n",
      "\n",
      "     G20AUDOHOF  G20AUDPERI  G20AUDOWRI  \\\n",
      "0           161          22           1   \n",
      "1           927         121          10   \n",
      "2           498          94           2   \n",
      "3           570          92           2   \n",
      "4          1452         189           4   \n",
      "..          ...         ...         ...   \n",
      "279         170          32           0   \n",
      "280        1069         368           9   \n",
      "281          59          23           0   \n",
      "282         465         119           4   \n",
      "283          32          10           4   \n",
      "\n",
      "                                              geometry  \n",
      "0    POLYGON ((-73.24173 43.90482, -73.23971 43.905...  \n",
      "1    POLYGON ((-73.24958 44.08834, -73.24947 44.089...  \n",
      "2    POLYGON ((-73.18875 43.89438, -73.18870 43.894...  \n",
      "3    POLYGON ((-73.39280 43.82277, -73.39256 43.823...  \n",
      "4    POLYGON ((-73.40066 44.15341, -73.40029 44.154...  \n",
      "..                                                 ...  \n",
      "279  POLYGON ((-72.33753 44.97267, -72.33981 44.963...  \n",
      "280  POLYGON ((-72.58564 43.02324, -72.58491 43.027...  \n",
      "281  MULTIPOLYGON (((-72.47096 43.12585, -72.46566 ...  \n",
      "282  POLYGON ((-72.92891 42.76771, -72.92890 42.767...  \n",
      "283  POLYGON ((-72.93016 42.74466, -72.93015 42.744...  \n",
      "\n",
      "[284 rows x 52 columns]\n"
     ]
    }
   ],
   "source": [
    "print(vest_vt_20)"
   ]
  },
  {
   "cell_type": "markdown",
   "id": "b2c73e9a",
   "metadata": {},
   "source": [
    "## Election Results"
   ]
  },
  {
   "cell_type": "markdown",
   "id": "008d9720",
   "metadata": {},
   "source": [
    "### VEST Documentation"
   ]
  },
  {
   "cell_type": "markdown",
   "id": "1d6d6661",
   "metadata": {},
   "source": [
    "Election results from the Vermont Secretary of State (https://electionarchive.vermont.gov/)  \n",
    "\n",
    "\n",
    "Vermont has four unorganized towns whose residents cast votes in neighboring towns. These were distributed back based on voting age population in the 2019 American Community Survey as 2020 Census results are not yet available at the township level. (Averill-Canaan, Buel's Gore-Huntington, Ferdinand-Brighton, Glastenbury-Shaftsbury.)"
   ]
  },
  {
   "cell_type": "markdown",
   "id": "bfd64fd2",
   "metadata": {},
   "source": [
    "G20PREDBID - Joseph R. Biden (Democratic Party)\n",
    "G20PRERTRU - Donald J. Trump (Republican Party)\n",
    "G20PRELJOR - Jo Jorgensen (Libertarian Party)\n",
    "G20PREGHAW - Howie Hawkins (Green Party)\n",
    "G20PREIWES - Kanye West (Independent)\n",
    "G20PREOOTH - Other Candidates on Ballot\n",
    "G20PREOSAN - Bernie Sanders (Write-in)\n",
    "G20PREOWRI - Other Write-in Candidates\n",
    "\n",
    "G20HALDWEL - Peter Welch (Democratic Party)\n",
    "G20HALDRBE - Miriam Berry (Republican Party)\n",
    "G20HALCHEL - Christopher Helali (Communisty Party)\n",
    "G20HALIBEC - Peter R. Becker (Independent)\n",
    "G20HALIHOR - Marcia Horne (Independent)\n",
    "G20HALIORR - Shawn Orr (Independent)\n",
    "G20HALITRU - Jerry Trudell (Independent)\n",
    "G20HALOWRI - Write-in Votes\n",
    "\n",
    "G20GOVDZUC - David Zuckerman (Progressive Party and Democratic Party (fusion candidate))\n",
    "G20GOVRSCO - Phil Scott (Republican Party)\n",
    "G20GOVIHOY - Kevin Hoyt (Independent)\n",
    "G20GOVTPEY - Emily Peyton (Truth Matters Pary)\n",
    "G20GOVIWHI - Erynn Hazlett Whitney (Independent)\n",
    "G20GOVIBIL - Wayne Billado III (Independent)\n",
    "G20GOVIDEV - Michael Devost (Independent)\n",
    "G20GOVUDIC - Charly Dickerson (Unaffiliated)\n",
    "G20GOVOWRI - Write-in Votes\n",
    "\n",
    "G20LTGDGRA - Molly Gray (Democratic Party)\n",
    "G20LTGRMIL - Scott Milne (Republican Party)\n",
    "G20LTGPERI - Cris Ericson (Progressive Party)\n",
    "G20LTGIBIL - Wayne Billado III (Independent)\n",
    "G20LTGBCOR - Ralph Corbo (Banigh the F-35s Party)\n",
    "G20LTGOWRI - Write-in Votes\n",
    "\n",
    "G20ATGDDON - T.J. Donovan (Democratic Party)\n",
    "G20ATGRPAI - H. Brooke Paige (Republican Party)\n",
    "G20ATGPERI - Cris Ericson (Progressive Party)\n",
    "G20ATGOWRI - Write-in Votes\n",
    "\n",
    "G20SOSDCON - Jim Condos (Democratic Party)\n",
    "G20SOSRPAI - H. Brooke Paige (Republican Party)\n",
    "G20SOSPERI - Cris Ericson (Progressive Party)\n",
    "G20SOSISMI - Pamala Smith (Independent)\n",
    "G20SOSOWRI - Write-in Votes\n",
    "\n",
    "G20TREDPEA - Beth Pearce (Democratic Party)\n",
    "G20TRERBRA - Barolyn Whitney Branagan (Republican Party)\n",
    "G20TREPERI - Cris Ericson (Progressive Party)\n",
    "G20TREIWRI - Alex Wright (Independent)\n",
    "G20TREOWRI - Write-in Votes\n",
    "\n",
    "G20AUDOHOF - Doug Hoffer (Democratic Party and Republican Party (fusion candidate))\n",
    "G20AUDPERI - Cris Ericson (Progressive Party)\n",
    "G20AUDOWRI - Write-in Votes"
   ]
  },
  {
   "cell_type": "markdown",
   "id": "ff3179f8",
   "metadata": {},
   "source": [
    "### Load Source Files"
   ]
  },
  {
   "cell_type": "code",
   "execution_count": 5,
   "id": "7ce822b5",
   "metadata": {},
   "outputs": [],
   "source": [
    "all_files = os.listdir(\"./raw-from-source/Election_Results/\")\n",
    "li = []\n",
    "for file in all_files:\n",
    "    if file  != \".DS_Store\":\n",
    "        ref = \"./raw-from-source/Election_Results/\"\n",
    "        file_ref = ref+file\n",
    "        file_prev = pd.read_csv(file_ref,engine='python',index_col=None)\n",
    "        #Only keep the City/Town and Pct columns in one file, as they are duplicated\n",
    "        #Delete unused columns in others\n",
    "        if file != 'VT_Elections_Database__2020_Treasurer_General_Election_including_precincts.csv':\n",
    "            file_prev = file_prev.drop(['City/Town', 'Ward', 'Pct','Blanks', 'Spoiled','Total Votes Cast'], axis=1)\n",
    "            file_prev = file_prev.drop([0])\n",
    "        else:\n",
    "            file_prev = file_prev.drop(['Ward','Blanks', 'Spoiled','Total Votes Cast'], axis=1)\n",
    "            file_prev = file_prev.drop([0])\n",
    "        for col in file_prev.columns:\n",
    "            file_prev.rename(columns={col:col+\"-\"+file[28:40]},inplace=True)\n",
    "        li.append(file_prev)\n",
    "    \n",
    "#Define the dataframe, note we are add the loaded dataframes next to one another and not below\n",
    "frame = pd.concat(li, axis=1, ignore_index=False)"
   ]
  },
  {
   "cell_type": "markdown",
   "id": "03c36fe2",
   "metadata": {},
   "source": [
    "### Clean up the election results"
   ]
  },
  {
   "cell_type": "markdown",
   "id": "d81adba6",
   "metadata": {},
   "source": [
    "#### Rename and reorder the columns to match VEST"
   ]
  },
  {
   "cell_type": "markdown",
   "id": "49acce00",
   "metadata": {},
   "source": [
    "typo on 'Barolyn Whitney Branagan'"
   ]
  },
  {
   "cell_type": "code",
   "execution_count": 6,
   "id": "f6685f6a",
   "metadata": {},
   "outputs": [
    {
     "name": "stdout",
     "output_type": "stream",
     "text": [
      "Index(['City/Town-Treasurer_Ge', 'Pct-Treasurer_Ge',\n",
      "       'Beth Pearce-Treasurer_Ge', 'Carolyn Whitney Branagan-Treasurer_Ge',\n",
      "       'Alex Wright-Treasurer_Ge', 'Cris Ericson-Treasurer_Ge',\n",
      "       'Write-Ins-Treasurer_Ge', 'T.J. Donovan-Attorney_Gen',\n",
      "       'H. Brooke Paige-Attorney_Gen', 'Cris Ericson-Attorney_Gen',\n",
      "       'Write-Ins-Attorney_Gen', 'Doug Hoffer-Auditor_Gene',\n",
      "       'Cris Ericson-Auditor_Gene', 'Write-Ins-Auditor_Gene',\n",
      "       'Molly Gray-Lieutenant_G', 'Scott Milne-Lieutenant_G',\n",
      "       'Cris Ericson-Lieutenant_G', 'Wayne Billado, III-Lieutenant_G',\n",
      "       'Ralph Corbo-Lieutenant_G', 'David Zuckerman-Lieutenant_G',\n",
      "       'Write-Ins-Lieutenant_G', 'Phil Scott-Governor_Gen',\n",
      "       'David Zuckerman-Governor_Gen', 'Kevin Hoyt-Governor_Gen',\n",
      "       'Emily Peyton-Governor_Gen', 'Erynn Hazlett Whitney-Governor_Gen',\n",
      "       'Wayne Billado, III-Governor_Gen', 'Michael A. Devost-Governor_Gen',\n",
      "       'Charly Dickerson-Governor_Gen', 'Write-Ins-Governor_Gen',\n",
      "       'Peter Welch-U_S_House_Ge', 'Miriam Berry-U_S_House_Ge',\n",
      "       'Peter R. Becker-U_S_House_Ge', 'Marcia Horne-U_S_House_Ge',\n",
      "       'Christopher Helali-U_S_House_Ge', 'Shawn Orr-U_S_House_Ge',\n",
      "       'Jerry Trudell-U_S_House_Ge', 'Write-Ins-U_S_House_Ge',\n",
      "       'Joseph R. Biden-President_Ge', 'Donald J. Trump-President_Ge',\n",
      "       'Jo Jorgensen-President_Ge', 'Howie Hawkins-President_Ge',\n",
      "       'Kanye West-President_Ge', 'H. Brooke Paige-President_Ge',\n",
      "       'Christopher Lafontaine-President_Ge', 'Bernie Sanders-President_Ge',\n",
      "       'Richard Duncan-President_Ge', 'Brian Carroll-President_Ge',\n",
      "       'Don Blankenship-President_Ge', 'Alyson Kennedy-President_Ge',\n",
      "       'Gloria Lariva-President_Ge', 'Gary Swing-President_Ge',\n",
      "       'Phil Collins-President_Ge', 'Keith McCormic-President_Ge',\n",
      "       'Brock Pierce-President_Ge', 'Jerome Segal-President_Ge',\n",
      "       'Blake Huber-President_Ge', 'Kyle Kenley Kopitke-President_Ge',\n",
      "       'Roque De La Fuente-President_Ge', 'Zachary Scalf-President_Ge',\n",
      "       'Write-Ins-President_Ge', 'Jim Condos-Secretary_of',\n",
      "       'H. Brooke Paige-Secretary_of', 'Pamala Smith-Secretary_of',\n",
      "       'Cris Ericson-Secretary_of', 'Write-Ins-Secretary_of'],\n",
      "      dtype='object')\n"
     ]
    }
   ],
   "source": [
    "print(frame.columns)"
   ]
  },
  {
   "cell_type": "code",
   "execution_count": 7,
   "id": "31a4b0b7",
   "metadata": {},
   "outputs": [],
   "source": [
    "temp_names = ['NAME20', 'NAME20_1',\n",
    "\"G20TREDPEA\",\n",
    "\"G20TRERBRA\",\n",
    "\"G20TREIWRI\",\n",
    "\"G20TREPERI\",\n",
    "\"G20TREOWRI\",\n",
    "\"G20ATGDDON\",\n",
    "\"G20ATGRPAI\",\n",
    "\"G20ATGPERI\",\n",
    "\"G20ATGOWRI\",\n",
    "\"G20AUDOHOF\",\n",
    "\"G20AUDPERI\", \n",
    "\"G20AUDOWRI\",\n",
    "\"G20LTGDGRA\",\n",
    "\"G20LTGRMIL\",\n",
    "\"G20LTGPERI\",\n",
    "\"G20LTGIBIL\",\n",
    "\"G20LTGBCOR\",\n",
    "\"G20LTGOWRI_to_add\",\n",
    "\"G20LTGOWRI\",\n",
    "\"G20GOVRSCO\",\n",
    "\"G20GOVDZUC\",\n",
    "\"G20GOVIHOY\",\n",
    "\"G20GOVTPEY\",\n",
    "\"G20GOVIWHI\",\n",
    "\"G20GOVIBIL\",\n",
    "\"G20GOVIDEV\",\n",
    "\"G20GOVUDIC\",\n",
    "\"G20GOVOWRI\",\n",
    "\"G20HALDWEL\",\n",
    "\"G20HALDRBE\",\n",
    " \"G20HALIBEC\",\n",
    "\"G20HALIHOR\",\n",
    "\"G20HALCHEL\",\n",
    "\"G20HALIORR\",\n",
    "\"G20HALITRU\",\n",
    "\"G20HALOWRI\",\n",
    "\"G20PREDBID\",\n",
    "\"G20PRERTRU\",\n",
    "\"G20PRELJOR\",\n",
    "\"G20PREGHAW\",\n",
    "\"G20PREIWES\",\n",
    "\"G20PREOOTH_add_1\",\n",
    " \"G20PREOOTH_add_2\",\n",
    "\"G20PREOSAN\",\n",
    "  \"G20PREOOTH_add_3\",\n",
    " \"G20PREOOTH_add_4\",\n",
    " \"G20PREOOTH_add_5\",\n",
    "\"G20PREOOTH_add_6\",\n",
    " \"G20PREOOTH_add_7\",\n",
    " \"G20PREOOTH_add_8\",\n",
    "\"G20PREOOTH_add_9\",\n",
    " \"G20PREOOTH_add_10\",\n",
    " \"G20PREOOTH_add_11\",\n",
    "\"G20PREOOTH_add_12\",\n",
    " \"G20PREOOTH_add_13\",\n",
    " \"G20PREOOTH_add_14\",\n",
    "\"G20PREOOTH_add_15\",\n",
    "\"G20PREOOTH_add_16\",\n",
    "\"G20PREOWRI\",\n",
    "\"G20SOSDCON\",\n",
    "\"G20SOSRPAI\",\n",
    "\"G20SOSISMI\",\n",
    " \"G20SOSPERI\",\n",
    "\"G20SOSOWRI\"]\n",
    "    \n",
    "frame.columns = temp_names"
   ]
  },
  {
   "cell_type": "code",
   "execution_count": 8,
   "id": "74ec3042",
   "metadata": {},
   "outputs": [],
   "source": [
    "for race in temp_names:\n",
    "    if race not in ['NAME20', 'NAME20_1']:\n",
    "        frame[race]=frame[race].astype(str)\n",
    "        frame[race]=frame[race].apply(lambda x: x.replace(',',''))\n",
    "        frame[race]=frame[race].astype(float)\n",
    "        frame[race]=frame[race].astype(int)"
   ]
  },
  {
   "cell_type": "code",
   "execution_count": 9,
   "id": "96d6489a",
   "metadata": {},
   "outputs": [
    {
     "data": {
      "text/plain": [
       "Index(['NAME20', 'NAME20_1', 'G20TREDPEA', 'G20TRERBRA', 'G20TREIWRI',\n",
       "       'G20TREPERI', 'G20TREOWRI', 'G20ATGDDON', 'G20ATGRPAI', 'G20ATGPERI',\n",
       "       'G20ATGOWRI', 'G20AUDOHOF', 'G20AUDPERI', 'G20AUDOWRI', 'G20LTGDGRA',\n",
       "       'G20LTGRMIL', 'G20LTGPERI', 'G20LTGIBIL', 'G20LTGBCOR',\n",
       "       'G20LTGOWRI_to_add', 'G20LTGOWRI', 'G20GOVRSCO', 'G20GOVDZUC',\n",
       "       'G20GOVIHOY', 'G20GOVTPEY', 'G20GOVIWHI', 'G20GOVIBIL', 'G20GOVIDEV',\n",
       "       'G20GOVUDIC', 'G20GOVOWRI', 'G20HALDWEL', 'G20HALDRBE', 'G20HALIBEC',\n",
       "       'G20HALIHOR', 'G20HALCHEL', 'G20HALIORR', 'G20HALITRU', 'G20HALOWRI',\n",
       "       'G20PREDBID', 'G20PRERTRU', 'G20PRELJOR', 'G20PREGHAW', 'G20PREIWES',\n",
       "       'G20PREOOTH_add_1', 'G20PREOOTH_add_2', 'G20PREOSAN',\n",
       "       'G20PREOOTH_add_3', 'G20PREOOTH_add_4', 'G20PREOOTH_add_5',\n",
       "       'G20PREOOTH_add_6', 'G20PREOOTH_add_7', 'G20PREOOTH_add_8',\n",
       "       'G20PREOOTH_add_9', 'G20PREOOTH_add_10', 'G20PREOOTH_add_11',\n",
       "       'G20PREOOTH_add_12', 'G20PREOOTH_add_13', 'G20PREOOTH_add_14',\n",
       "       'G20PREOOTH_add_15', 'G20PREOOTH_add_16', 'G20PREOWRI', 'G20SOSDCON',\n",
       "       'G20SOSRPAI', 'G20SOSISMI', 'G20SOSPERI', 'G20SOSOWRI'],\n",
       "      dtype='object')"
      ]
     },
     "execution_count": 9,
     "metadata": {},
     "output_type": "execute_result"
    }
   ],
   "source": [
    "frame.columns"
   ]
  },
  {
   "cell_type": "code",
   "execution_count": 10,
   "id": "c4da9d11",
   "metadata": {},
   "outputs": [],
   "source": [
    "frame['G20PREOOTH']=0\n",
    "frame[\"G20LTGOWRI\"]+=frame[\"G20LTGOWRI_to_add\"]\n",
    "for val in range(1,17):\n",
    "    name_string = 'G20PREOOTH_add_'+str(val)\n",
    "    frame['G20PREOOTH']+=frame[name_string]"
   ]
  },
  {
   "cell_type": "code",
   "execution_count": 11,
   "id": "e16e0fbf",
   "metadata": {},
   "outputs": [],
   "source": [
    "frame = frame[['NAME20', 'NAME20_1',\n",
    "\"G20TREDPEA\",\n",
    "\"G20TRERBRA\",\n",
    "\"G20TREIWRI\",\n",
    "\"G20TREPERI\",\n",
    "\"G20TREOWRI\",\n",
    "\"G20ATGDDON\",\n",
    "\"G20ATGRPAI\",\n",
    "\"G20ATGPERI\",\n",
    "\"G20ATGOWRI\",\n",
    "\"G20AUDOHOF\",\n",
    "\"G20AUDPERI\", \n",
    "\"G20AUDOWRI\",\n",
    "\"G20LTGDGRA\",\n",
    "\"G20LTGRMIL\",\n",
    "\"G20LTGPERI\",\n",
    "\"G20LTGIBIL\",\n",
    "\"G20LTGBCOR\",\n",
    "\"G20LTGOWRI_to_add\",\n",
    "\"G20LTGOWRI\",\n",
    "\"G20GOVRSCO\",\n",
    "\"G20GOVDZUC\",\n",
    "\"G20GOVIHOY\",\n",
    "\"G20GOVTPEY\",\n",
    "\"G20GOVIWHI\",\n",
    "\"G20GOVIBIL\",\n",
    "\"G20GOVIDEV\",\n",
    "\"G20GOVUDIC\",\n",
    "\"G20GOVOWRI\",\n",
    "\"G20HALDWEL\",\n",
    "\"G20HALDRBE\",\n",
    " \"G20HALIBEC\",\n",
    "\"G20HALIHOR\",\n",
    "\"G20HALCHEL\",\n",
    "\"G20HALIORR\",\n",
    "\"G20HALITRU\",\n",
    "\"G20HALOWRI\",\n",
    "\"G20PREDBID\",\n",
    "\"G20PRERTRU\",\n",
    "\"G20PRELJOR\",\n",
    "\"G20PREGHAW\",\n",
    "\"G20PREIWES\",\n",
    "\"G20PREOOTH\",\n",
    "\"G20PREOSAN\",\n",
    "\"G20PREOWRI\",\n",
    "\"G20SOSDCON\",\n",
    "\"G20SOSRPAI\",\n",
    "\"G20SOSISMI\",\n",
    " \"G20SOSPERI\",\n",
    "\"G20SOSOWRI\"]]"
   ]
  },
  {
   "cell_type": "code",
   "execution_count": 12,
   "id": "0273e94a",
   "metadata": {},
   "outputs": [
    {
     "name": "stdout",
     "output_type": "stream",
     "text": [
      "Index(['NAME20', 'NAME20_1', 'G20TREDPEA', 'G20TRERBRA', 'G20TREIWRI',\n",
      "       'G20TREPERI', 'G20TREOWRI', 'G20ATGDDON', 'G20ATGRPAI', 'G20ATGPERI',\n",
      "       'G20ATGOWRI', 'G20AUDOHOF', 'G20AUDPERI', 'G20AUDOWRI', 'G20LTGDGRA',\n",
      "       'G20LTGRMIL', 'G20LTGPERI', 'G20LTGIBIL', 'G20LTGBCOR',\n",
      "       'G20LTGOWRI_to_add', 'G20LTGOWRI', 'G20GOVRSCO', 'G20GOVDZUC',\n",
      "       'G20GOVIHOY', 'G20GOVTPEY', 'G20GOVIWHI', 'G20GOVIBIL', 'G20GOVIDEV',\n",
      "       'G20GOVUDIC', 'G20GOVOWRI', 'G20HALDWEL', 'G20HALDRBE', 'G20HALIBEC',\n",
      "       'G20HALIHOR', 'G20HALCHEL', 'G20HALIORR', 'G20HALITRU', 'G20HALOWRI',\n",
      "       'G20PREDBID', 'G20PRERTRU', 'G20PRELJOR', 'G20PREGHAW', 'G20PREIWES',\n",
      "       'G20PREOOTH', 'G20PREOSAN', 'G20PREOWRI', 'G20SOSDCON', 'G20SOSRPAI',\n",
      "       'G20SOSISMI', 'G20SOSPERI', 'G20SOSOWRI'],\n",
      "      dtype='object')\n"
     ]
    }
   ],
   "source": [
    "print(frame.columns)"
   ]
  },
  {
   "cell_type": "code",
   "execution_count": 13,
   "id": "fee49098",
   "metadata": {},
   "outputs": [],
   "source": [
    "data_columns = ['G20PRELJOR', 'G20PREGHAW', 'G20PREIWES', 'G20PREOOTH', 'G20PREOSAN',\n",
    "       'G20PREOWRI', 'G20HALDWEL', 'G20HALDRBE', 'G20HALCHEL', 'G20HALIBEC',\n",
    "       'G20HALIHOR', 'G20HALIORR', 'G20HALITRU', 'G20HALOWRI', 'G20GOVDZUC',\n",
    "       'G20GOVRSCO', 'G20GOVIHOY', 'G20GOVTPEY', 'G20GOVIWHI', 'G20GOVIBIL',\n",
    "       'G20GOVIDEV', 'G20GOVUDIC', 'G20GOVOWRI', 'G20LTGDGRA', 'G20LTGRMIL',\n",
    "       'G20LTGPERI', 'G20LTGIBIL', 'G20LTGBCOR', 'G20LTGOWRI', 'G20ATGDDON',\n",
    "       'G20ATGRPAI', 'G20ATGPERI', 'G20ATGOWRI', 'G20SOSDCON', 'G20SOSRPAI',\n",
    "       'G20SOSPERI', 'G20SOSISMI', 'G20SOSOWRI', 'G20TREDPEA', 'G20TRERBRA',\n",
    "       'G20TREPERI', 'G20TREIWRI', 'G20TREOWRI', 'G20AUDOHOF', 'G20AUDPERI',\n",
    "       'G20AUDOWRI']"
   ]
  },
  {
   "cell_type": "code",
   "execution_count": 14,
   "id": "71cf1c3a",
   "metadata": {},
   "outputs": [
    {
     "name": "stdout",
     "output_type": "stream",
     "text": [
      "Index(['STATEFP20', 'COUNTYFP20', 'NAME20', 'G20PREDBID', 'G20PRERTRU',\n",
      "       'G20PRELJOR', 'G20PREGHAW', 'G20PREIWES', 'G20PREOOTH', 'G20PREOSAN',\n",
      "       'G20PREOWRI', 'G20HALDWEL', 'G20HALDRBE', 'G20HALCHEL', 'G20HALIBEC',\n",
      "       'G20HALIHOR', 'G20HALIORR', 'G20HALITRU', 'G20HALOWRI', 'G20GOVDZUC',\n",
      "       'G20GOVRSCO', 'G20GOVIHOY', 'G20GOVTPEY', 'G20GOVIWHI', 'G20GOVIBIL',\n",
      "       'G20GOVIDEV', 'G20GOVUDIC', 'G20GOVOWRI', 'G20LTGDGRA', 'G20LTGRMIL',\n",
      "       'G20LTGPERI', 'G20LTGIBIL', 'G20LTGBCOR', 'G20LTGOWRI', 'G20ATGDDON',\n",
      "       'G20ATGRPAI', 'G20ATGPERI', 'G20ATGOWRI', 'G20SOSDCON', 'G20SOSRPAI',\n",
      "       'G20SOSPERI', 'G20SOSISMI', 'G20SOSOWRI', 'G20TREDPEA', 'G20TRERBRA',\n",
      "       'G20TREPERI', 'G20TREIWRI', 'G20TREOWRI', 'G20AUDOHOF', 'G20AUDPERI',\n",
      "       'G20AUDOWRI', 'geometry'],\n",
      "      dtype='object')\n"
     ]
    }
   ],
   "source": [
    "print(vest_vt_20.columns)"
   ]
  },
  {
   "cell_type": "markdown",
   "id": "42818654",
   "metadata": {},
   "source": [
    "#### Clean the column data types"
   ]
  },
  {
   "cell_type": "markdown",
   "id": "062473b8",
   "metadata": {},
   "source": [
    "#### Remove rows that count total votes"
   ]
  },
  {
   "cell_type": "code",
   "execution_count": 15,
   "id": "7159c484",
   "metadata": {},
   "outputs": [],
   "source": [
    "frame = frame[frame['NAME20']!=\"TOTALS\"]"
   ]
  },
  {
   "cell_type": "markdown",
   "id": "95f48084",
   "metadata": {},
   "source": [
    "#### Compare race-wide election totals against VEST"
   ]
  },
  {
   "cell_type": "code",
   "execution_count": 16,
   "id": "66e70a34",
   "metadata": {},
   "outputs": [
    {
     "data": {
      "text/html": [
       "<div>\n",
       "<style scoped>\n",
       "    .dataframe tbody tr th:only-of-type {\n",
       "        vertical-align: middle;\n",
       "    }\n",
       "\n",
       "    .dataframe tbody tr th {\n",
       "        vertical-align: top;\n",
       "    }\n",
       "\n",
       "    .dataframe thead th {\n",
       "        text-align: right;\n",
       "    }\n",
       "</style>\n",
       "<table border=\"1\" class=\"dataframe\">\n",
       "  <thead>\n",
       "    <tr style=\"text-align: right;\">\n",
       "      <th></th>\n",
       "      <th>NAME20</th>\n",
       "      <th>NAME20_1</th>\n",
       "      <th>G20TREDPEA</th>\n",
       "      <th>G20TRERBRA</th>\n",
       "      <th>G20TREIWRI</th>\n",
       "      <th>G20TREPERI</th>\n",
       "      <th>G20TREOWRI</th>\n",
       "      <th>G20ATGDDON</th>\n",
       "      <th>G20ATGRPAI</th>\n",
       "      <th>G20ATGPERI</th>\n",
       "      <th>...</th>\n",
       "      <th>G20PREGHAW</th>\n",
       "      <th>G20PREIWES</th>\n",
       "      <th>G20PREOOTH</th>\n",
       "      <th>G20PREOSAN</th>\n",
       "      <th>G20PREOWRI</th>\n",
       "      <th>G20SOSDCON</th>\n",
       "      <th>G20SOSRPAI</th>\n",
       "      <th>G20SOSISMI</th>\n",
       "      <th>G20SOSPERI</th>\n",
       "      <th>G20SOSOWRI</th>\n",
       "    </tr>\n",
       "  </thead>\n",
       "  <tbody>\n",
       "    <tr>\n",
       "      <th>1</th>\n",
       "      <td>Addison</td>\n",
       "      <td>NaN</td>\n",
       "      <td>372</td>\n",
       "      <td>404</td>\n",
       "      <td>33</td>\n",
       "      <td>20</td>\n",
       "      <td>0</td>\n",
       "      <td>500</td>\n",
       "      <td>317</td>\n",
       "      <td>25</td>\n",
       "      <td>...</td>\n",
       "      <td>2</td>\n",
       "      <td>6</td>\n",
       "      <td>19</td>\n",
       "      <td>1</td>\n",
       "      <td>3</td>\n",
       "      <td>424</td>\n",
       "      <td>357</td>\n",
       "      <td>43</td>\n",
       "      <td>16</td>\n",
       "      <td>0</td>\n",
       "    </tr>\n",
       "    <tr>\n",
       "      <th>2</th>\n",
       "      <td>Albany</td>\n",
       "      <td>NaN</td>\n",
       "      <td>255</td>\n",
       "      <td>213</td>\n",
       "      <td>16</td>\n",
       "      <td>28</td>\n",
       "      <td>0</td>\n",
       "      <td>301</td>\n",
       "      <td>184</td>\n",
       "      <td>27</td>\n",
       "      <td>...</td>\n",
       "      <td>2</td>\n",
       "      <td>0</td>\n",
       "      <td>10</td>\n",
       "      <td>2</td>\n",
       "      <td>1</td>\n",
       "      <td>275</td>\n",
       "      <td>189</td>\n",
       "      <td>29</td>\n",
       "      <td>20</td>\n",
       "      <td>0</td>\n",
       "    </tr>\n",
       "    <tr>\n",
       "      <th>3</th>\n",
       "      <td>Alburgh</td>\n",
       "      <td>NaN</td>\n",
       "      <td>436</td>\n",
       "      <td>508</td>\n",
       "      <td>61</td>\n",
       "      <td>23</td>\n",
       "      <td>2</td>\n",
       "      <td>589</td>\n",
       "      <td>396</td>\n",
       "      <td>45</td>\n",
       "      <td>...</td>\n",
       "      <td>3</td>\n",
       "      <td>4</td>\n",
       "      <td>8</td>\n",
       "      <td>2</td>\n",
       "      <td>3</td>\n",
       "      <td>477</td>\n",
       "      <td>405</td>\n",
       "      <td>127</td>\n",
       "      <td>23</td>\n",
       "      <td>3</td>\n",
       "    </tr>\n",
       "    <tr>\n",
       "      <th>4</th>\n",
       "      <td>Andover</td>\n",
       "      <td>NaN</td>\n",
       "      <td>180</td>\n",
       "      <td>135</td>\n",
       "      <td>12</td>\n",
       "      <td>24</td>\n",
       "      <td>0</td>\n",
       "      <td>211</td>\n",
       "      <td>116</td>\n",
       "      <td>15</td>\n",
       "      <td>...</td>\n",
       "      <td>0</td>\n",
       "      <td>2</td>\n",
       "      <td>7</td>\n",
       "      <td>1</td>\n",
       "      <td>2</td>\n",
       "      <td>198</td>\n",
       "      <td>115</td>\n",
       "      <td>16</td>\n",
       "      <td>21</td>\n",
       "      <td>0</td>\n",
       "    </tr>\n",
       "    <tr>\n",
       "      <th>5</th>\n",
       "      <td>Arlington</td>\n",
       "      <td>NaN</td>\n",
       "      <td>739</td>\n",
       "      <td>492</td>\n",
       "      <td>75</td>\n",
       "      <td>62</td>\n",
       "      <td>2</td>\n",
       "      <td>853</td>\n",
       "      <td>465</td>\n",
       "      <td>63</td>\n",
       "      <td>...</td>\n",
       "      <td>3</td>\n",
       "      <td>3</td>\n",
       "      <td>15</td>\n",
       "      <td>1</td>\n",
       "      <td>2</td>\n",
       "      <td>792</td>\n",
       "      <td>464</td>\n",
       "      <td>91</td>\n",
       "      <td>51</td>\n",
       "      <td>2</td>\n",
       "    </tr>\n",
       "    <tr>\n",
       "      <th>...</th>\n",
       "      <td>...</td>\n",
       "      <td>...</td>\n",
       "      <td>...</td>\n",
       "      <td>...</td>\n",
       "      <td>...</td>\n",
       "      <td>...</td>\n",
       "      <td>...</td>\n",
       "      <td>...</td>\n",
       "      <td>...</td>\n",
       "      <td>...</td>\n",
       "      <td>...</td>\n",
       "      <td>...</td>\n",
       "      <td>...</td>\n",
       "      <td>...</td>\n",
       "      <td>...</td>\n",
       "      <td>...</td>\n",
       "      <td>...</td>\n",
       "      <td>...</td>\n",
       "      <td>...</td>\n",
       "      <td>...</td>\n",
       "      <td>...</td>\n",
       "    </tr>\n",
       "    <tr>\n",
       "      <th>271</th>\n",
       "      <td>Wolcott</td>\n",
       "      <td>NaN</td>\n",
       "      <td>501</td>\n",
       "      <td>277</td>\n",
       "      <td>53</td>\n",
       "      <td>31</td>\n",
       "      <td>1</td>\n",
       "      <td>578</td>\n",
       "      <td>261</td>\n",
       "      <td>43</td>\n",
       "      <td>...</td>\n",
       "      <td>2</td>\n",
       "      <td>6</td>\n",
       "      <td>14</td>\n",
       "      <td>1</td>\n",
       "      <td>2</td>\n",
       "      <td>527</td>\n",
       "      <td>278</td>\n",
       "      <td>55</td>\n",
       "      <td>23</td>\n",
       "      <td>0</td>\n",
       "    </tr>\n",
       "    <tr>\n",
       "      <th>272</th>\n",
       "      <td>Woodbury</td>\n",
       "      <td>NaN</td>\n",
       "      <td>336</td>\n",
       "      <td>178</td>\n",
       "      <td>16</td>\n",
       "      <td>29</td>\n",
       "      <td>0</td>\n",
       "      <td>364</td>\n",
       "      <td>172</td>\n",
       "      <td>26</td>\n",
       "      <td>...</td>\n",
       "      <td>3</td>\n",
       "      <td>0</td>\n",
       "      <td>8</td>\n",
       "      <td>2</td>\n",
       "      <td>0</td>\n",
       "      <td>352</td>\n",
       "      <td>182</td>\n",
       "      <td>16</td>\n",
       "      <td>19</td>\n",
       "      <td>0</td>\n",
       "    </tr>\n",
       "    <tr>\n",
       "      <th>273</th>\n",
       "      <td>Woodford</td>\n",
       "      <td>NaN</td>\n",
       "      <td>85</td>\n",
       "      <td>80</td>\n",
       "      <td>11</td>\n",
       "      <td>8</td>\n",
       "      <td>2</td>\n",
       "      <td>95</td>\n",
       "      <td>81</td>\n",
       "      <td>7</td>\n",
       "      <td>...</td>\n",
       "      <td>1</td>\n",
       "      <td>0</td>\n",
       "      <td>0</td>\n",
       "      <td>0</td>\n",
       "      <td>0</td>\n",
       "      <td>87</td>\n",
       "      <td>78</td>\n",
       "      <td>20</td>\n",
       "      <td>0</td>\n",
       "      <td>1</td>\n",
       "    </tr>\n",
       "    <tr>\n",
       "      <th>274</th>\n",
       "      <td>Woodstock</td>\n",
       "      <td>NaN</td>\n",
       "      <td>1293</td>\n",
       "      <td>485</td>\n",
       "      <td>80</td>\n",
       "      <td>80</td>\n",
       "      <td>0</td>\n",
       "      <td>1458</td>\n",
       "      <td>394</td>\n",
       "      <td>78</td>\n",
       "      <td>...</td>\n",
       "      <td>6</td>\n",
       "      <td>4</td>\n",
       "      <td>18</td>\n",
       "      <td>5</td>\n",
       "      <td>11</td>\n",
       "      <td>1365</td>\n",
       "      <td>422</td>\n",
       "      <td>112</td>\n",
       "      <td>64</td>\n",
       "      <td>3</td>\n",
       "    </tr>\n",
       "    <tr>\n",
       "      <th>275</th>\n",
       "      <td>Worcester</td>\n",
       "      <td>NaN</td>\n",
       "      <td>429</td>\n",
       "      <td>119</td>\n",
       "      <td>22</td>\n",
       "      <td>30</td>\n",
       "      <td>2</td>\n",
       "      <td>457</td>\n",
       "      <td>99</td>\n",
       "      <td>36</td>\n",
       "      <td>...</td>\n",
       "      <td>5</td>\n",
       "      <td>3</td>\n",
       "      <td>12</td>\n",
       "      <td>4</td>\n",
       "      <td>6</td>\n",
       "      <td>429</td>\n",
       "      <td>123</td>\n",
       "      <td>27</td>\n",
       "      <td>24</td>\n",
       "      <td>0</td>\n",
       "    </tr>\n",
       "  </tbody>\n",
       "</table>\n",
       "<p>275 rows × 51 columns</p>\n",
       "</div>"
      ],
      "text/plain": [
       "        NAME20 NAME20_1  G20TREDPEA  G20TRERBRA  G20TREIWRI  G20TREPERI  \\\n",
       "1      Addison      NaN         372         404          33          20   \n",
       "2       Albany      NaN         255         213          16          28   \n",
       "3      Alburgh      NaN         436         508          61          23   \n",
       "4      Andover      NaN         180         135          12          24   \n",
       "5    Arlington      NaN         739         492          75          62   \n",
       "..         ...      ...         ...         ...         ...         ...   \n",
       "271    Wolcott      NaN         501         277          53          31   \n",
       "272   Woodbury      NaN         336         178          16          29   \n",
       "273   Woodford      NaN          85          80          11           8   \n",
       "274  Woodstock      NaN        1293         485          80          80   \n",
       "275  Worcester      NaN         429         119          22          30   \n",
       "\n",
       "     G20TREOWRI  G20ATGDDON  G20ATGRPAI  G20ATGPERI  ...  G20PREGHAW  \\\n",
       "1             0         500         317          25  ...           2   \n",
       "2             0         301         184          27  ...           2   \n",
       "3             2         589         396          45  ...           3   \n",
       "4             0         211         116          15  ...           0   \n",
       "5             2         853         465          63  ...           3   \n",
       "..          ...         ...         ...         ...  ...         ...   \n",
       "271           1         578         261          43  ...           2   \n",
       "272           0         364         172          26  ...           3   \n",
       "273           2          95          81           7  ...           1   \n",
       "274           0        1458         394          78  ...           6   \n",
       "275           2         457          99          36  ...           5   \n",
       "\n",
       "     G20PREIWES  G20PREOOTH  G20PREOSAN  G20PREOWRI  G20SOSDCON  G20SOSRPAI  \\\n",
       "1             6          19           1           3         424         357   \n",
       "2             0          10           2           1         275         189   \n",
       "3             4           8           2           3         477         405   \n",
       "4             2           7           1           2         198         115   \n",
       "5             3          15           1           2         792         464   \n",
       "..          ...         ...         ...         ...         ...         ...   \n",
       "271           6          14           1           2         527         278   \n",
       "272           0           8           2           0         352         182   \n",
       "273           0           0           0           0          87          78   \n",
       "274           4          18           5          11        1365         422   \n",
       "275           3          12           4           6         429         123   \n",
       "\n",
       "     G20SOSISMI  G20SOSPERI  G20SOSOWRI  \n",
       "1            43          16           0  \n",
       "2            29          20           0  \n",
       "3           127          23           3  \n",
       "4            16          21           0  \n",
       "5            91          51           2  \n",
       "..          ...         ...         ...  \n",
       "271          55          23           0  \n",
       "272          16          19           0  \n",
       "273          20           0           1  \n",
       "274         112          64           3  \n",
       "275          27          24           0  \n",
       "\n",
       "[275 rows x 51 columns]"
      ]
     },
     "execution_count": 16,
     "metadata": {},
     "output_type": "execute_result"
    }
   ],
   "source": [
    "frame"
   ]
  },
  {
   "cell_type": "code",
   "execution_count": 17,
   "id": "eeb94f1d",
   "metadata": {},
   "outputs": [
    {
     "name": "stdout",
     "output_type": "stream",
     "text": [
      "Races with differences will be printed below:\n",
      "\n",
      "All other races are equal\n"
     ]
    }
   ],
   "source": [
    "print(\"Races with differences will be printed below:\")\n",
    "for race in data_columns:\n",
    "    if (sum(vest_vt_20[race])-sum(frame[race]) != 0):\n",
    "        print(race+\" has a difference of \"+str(sum(vest_vt_20[race])-sum(frame[race]))+\" votes\")\n",
    "        print(\"\\tVEST: \"+str(sum(vest_vt_20[race]))+\" votes\")\n",
    "        print(\"\\tSOURCES: \"+str(sum(frame[race]))+\" votes\")\n",
    "print(\"\")\n",
    "print(\"All other races are equal\")"
   ]
  },
  {
   "cell_type": "markdown",
   "id": "b7ab1adf",
   "metadata": {},
   "source": [
    "### Following VEST documentation, allocate votes to the four unorganized towns"
   ]
  },
  {
   "cell_type": "markdown",
   "id": "12028171",
   "metadata": {},
   "source": [
    "#### Documentation"
   ]
  },
  {
   "cell_type": "markdown",
   "id": "27234d11",
   "metadata": {},
   "source": [
    "> Vermont has four unorganized towns whose residents cast votes in neighboring towns. These were distributed back based on voting age population in the 2019 American Community Survey as 2020 Census results are not yet available at the township level. (Averill-Canaan, Buel's Gore-Huntington, Ferdinand-Brighton, Glastenbury-Shaftsbury.)"
   ]
  },
  {
   "cell_type": "markdown",
   "id": "b764bedc",
   "metadata": {},
   "source": [
    "#### Add empty precincts to the dataframe (will allocate votes afterwards)"
   ]
  },
  {
   "cell_type": "code",
   "execution_count": 18,
   "id": "f2192c68",
   "metadata": {},
   "outputs": [],
   "source": [
    "new_df = pd.DataFrame([[\"Averill\",\"\",    0,0,0,0,0,0,0,0,0,0,0,0,0,0,0,0,0,0,0,0,0,0,0,0,0,0,0,0,0,0,0,0,0,0,0,0,0,0,0,0,0,0,0,0,0,0,0,0,0],\n",
    "                       [\"Buels Gore\",\"\", 0,0,0,0,0,0,0,0,0,0,0,0,0,0,0,0,0,0,0,0,0,0,0,0,0,0,0,0,0,0,0,0,0,0,0,0,0,0,0,0,0,0,0,0,0,0,0,0,0],\n",
    "                       [\"Ferdinand\",\"\",  0,0,0,0,0,0,0,0,0,0,0,0,0,0,0,0,0,0,0,0,0,0,0,0,0,0,0,0,0,0,0,0,0,0,0,0,0,0,0,0,0,0,0,0,0,0,0,0,0],\n",
    "                       [\"Glastenbury\",\"\",0,0,0,0,0,0,0,0,0,0,0,0,0,0,0,0,0,0,0,0,0,0,0,0,0,0,0,0,0,0,0,0,0,0,0,0,0,0,0,0,0,0,0,0,0,0,0,0,0]]\n",
    "                      ,columns=frame.columns)\n",
    "frame = frame.append(new_df)\n",
    "frame.reset_index(inplace=True,drop=True)"
   ]
  },
  {
   "cell_type": "markdown",
   "id": "8a609c2f",
   "metadata": {},
   "source": [
    "#### Load the ACS data"
   ]
  },
  {
   "cell_type": "code",
   "execution_count": 19,
   "id": "b4e8b45f",
   "metadata": {},
   "outputs": [],
   "source": [
    "acs_allocating_votes = pd.read_csv(\"./raw-from-source/ACS/ACSST5Y2019.S0101_2021-07-20T203240/ACSST5Y2019.S0101_data_with_overlays_2021-07-20T203200.csv\")        "
   ]
  },
  {
   "cell_type": "code",
   "execution_count": 20,
   "id": "930ed577",
   "metadata": {},
   "outputs": [],
   "source": [
    "#Clean up the header\n",
    "acs_allocating_votes.columns = acs_allocating_votes.iloc[0]\n",
    "acs_allocating_votes = acs_allocating_votes.drop([0])\n",
    "\n",
    "#Grab needed columns\n",
    "acs_allocating_votes = acs_allocating_votes[[\"Geographic Area Name\",'Estimate!!Total!!Total population!!SELECTED AGE CATEGORIES!!18 years and over']]\n",
    "\n",
    "#Rename columns\n",
    "acs_allocating_votes.columns=[\"Place\",\"VAP Estimate\"]\n",
    "\n",
    "#Clean columns\n",
    "acs_allocating_votes[\"VAP Estimate\"]=acs_allocating_votes[\"VAP Estimate\"].astype(float)\n",
    "\n",
    "#Define a \"ratio\" column, fill it below with the percentage of voters from the area where votes were counted\n",
    "acs_allocating_votes[\"ratio\"]=0"
   ]
  },
  {
   "cell_type": "code",
   "execution_count": 21,
   "id": "33f2604c",
   "metadata": {},
   "outputs": [
    {
     "name": "stdout",
     "output_type": "stream",
     "text": [
      "                                          Place  VAP Estimate  ratio\n",
      "1  Glastenbury town, Bennington County, Vermont           0.0      0\n",
      "2   Shaftsbury town, Bennington County, Vermont        2590.0      0\n",
      "3        Buels gore, Chittenden County, Vermont          17.0      0\n",
      "4   Huntington town, Chittenden County, Vermont        1592.0      0\n",
      "5           Averill town, Essex County, Vermont          10.0      0\n",
      "6          Brighton town, Essex County, Vermont         986.0      0\n",
      "7            Canaan town, Essex County, Vermont         718.0      0\n",
      "8         Ferdinand town, Essex County, Vermont          21.0      0\n"
     ]
    }
   ],
   "source": [
    "print(acs_allocating_votes)"
   ]
  },
  {
   "cell_type": "code",
   "execution_count": 22,
   "id": "2cdf7a38",
   "metadata": {},
   "outputs": [
    {
     "name": "stdout",
     "output_type": "stream",
     "text": [
      "                                          Place  VAP Estimate     ratio\n",
      "1  Glastenbury town, Bennington County, Vermont           0.0  0.000000\n",
      "2   Shaftsbury town, Bennington County, Vermont        2590.0  0.000000\n",
      "3        Buels gore, Chittenden County, Vermont          17.0  0.010678\n",
      "4   Huntington town, Chittenden County, Vermont        1592.0  0.000000\n",
      "5           Averill town, Essex County, Vermont          10.0  0.013928\n",
      "6          Brighton town, Essex County, Vermont         986.0  0.000000\n",
      "7            Canaan town, Essex County, Vermont         718.0  0.000000\n",
      "8         Ferdinand town, Essex County, Vermont          21.0  0.021298\n"
     ]
    }
   ],
   "source": [
    "#Glastenbury (from Shaftsbury)\n",
    "acs_allocating_votes.iloc[0,2]=acs_allocating_votes.iloc[0,1]/acs_allocating_votes.iloc[1,1]\n",
    "#Buels (from Huntington)\n",
    "acs_allocating_votes.iloc[2,2]=acs_allocating_votes.iloc[2,1]/acs_allocating_votes.iloc[3,1]\n",
    "#Averill (from Canaan)\n",
    "acs_allocating_votes.iloc[4,2]=acs_allocating_votes.iloc[4,1]/acs_allocating_votes.iloc[6,1]\n",
    "#Ferdinand (from Brighton)\n",
    "acs_allocating_votes.iloc[7,2]=acs_allocating_votes.iloc[7,1]/acs_allocating_votes.iloc[5,1]\n",
    "\n",
    "print(acs_allocating_votes)"
   ]
  },
  {
   "cell_type": "markdown",
   "id": "5a8ed9f4",
   "metadata": {},
   "source": [
    "#### Allocate votes to Averill from Canaan"
   ]
  },
  {
   "cell_type": "code",
   "execution_count": 23,
   "id": "7df8d22b",
   "metadata": {},
   "outputs": [
    {
     "name": "stdout",
     "output_type": "stream",
     "text": [
      "      NAME20 NAME20_1  G20TREDPEA  G20TRERBRA  G20TREIWRI  G20TREPERI  \\\n",
      "275  Averill                    3           3           1           0   \n",
      "\n",
      "     G20TREOWRI  G20ATGDDON  G20ATGRPAI  G20ATGPERI  ...  G20PREGHAW  \\\n",
      "275           0           4           2           1  ...           0   \n",
      "\n",
      "     G20PREIWES  G20PREOOTH  G20PREOSAN  G20PREOWRI  G20SOSDCON  G20SOSRPAI  \\\n",
      "275           0           0           0           0           3           3   \n",
      "\n",
      "     G20SOSISMI  G20SOSPERI  G20SOSOWRI  \n",
      "275           1           0           0  \n",
      "\n",
      "[1 rows x 51 columns]\n",
      "    NAME20 NAME20_1  G20TREDPEA  G20TRERBRA  G20TREIWRI  G20TREPERI  \\\n",
      "47  Canaan      NaN         192         203          54           7   \n",
      "\n",
      "    G20TREOWRI  G20ATGDDON  G20ATGRPAI  G20ATGPERI  ...  G20PREGHAW  \\\n",
      "47           1         251         169          36  ...           0   \n",
      "\n",
      "    G20PREIWES  G20PREOOTH  G20PREOSAN  G20PREOWRI  G20SOSDCON  G20SOSRPAI  \\\n",
      "47           0           7           1           3         194         206   \n",
      "\n",
      "    G20SOSISMI  G20SOSPERI  G20SOSOWRI  \n",
      "47          48           7           1  \n",
      "\n",
      "[1 rows x 51 columns]\n"
     ]
    }
   ],
   "source": [
    "for race in data_columns:\n",
    "    frame.loc[frame[\"NAME20\"]==\"Averill\",race] = round(frame.loc[frame[\"NAME20\"]==\"Canaan\",race].values[0]*0.013928,0).astype(int)\n",
    "    frame.loc[frame[\"NAME20\"]==\"Canaan\",race]= round(frame.loc[frame[\"NAME20\"]==\"Canaan\",race].values[0]*(1-0.013928),0).astype(int)\n",
    "print(frame.loc[frame[\"NAME20\"]==\"Averill\"])\n",
    "print(frame.loc[frame[\"NAME20\"]==\"Canaan\"])"
   ]
  },
  {
   "cell_type": "markdown",
   "id": "3caf4225",
   "metadata": {},
   "source": [
    "#### Allocate votes to Buels Gore from Huntington"
   ]
  },
  {
   "cell_type": "code",
   "execution_count": 24,
   "id": "ec0cb690",
   "metadata": {},
   "outputs": [
    {
     "name": "stdout",
     "output_type": "stream",
     "text": [
      "         NAME20 NAME20_1  G20TREDPEA  G20TRERBRA  G20TREIWRI  G20TREPERI  \\\n",
      "276  Buels Gore                   10           3           1           1   \n",
      "\n",
      "     G20TREOWRI  G20ATGDDON  G20ATGRPAI  G20ATGPERI  ...  G20PREGHAW  \\\n",
      "276           0          11           3           1  ...           0   \n",
      "\n",
      "     G20PREIWES  G20PREOOTH  G20PREOSAN  G20PREOWRI  G20SOSDCON  G20SOSRPAI  \\\n",
      "276           0           0           0           0          10           3   \n",
      "\n",
      "     G20SOSISMI  G20SOSPERI  G20SOSOWRI  \n",
      "276           1           0           0  \n",
      "\n",
      "[1 rows x 51 columns]\n",
      "         NAME20 NAME20_1  G20TREDPEA  G20TRERBRA  G20TREIWRI  G20TREPERI  \\\n",
      "108  Huntington      NaN         889         298          70          62   \n",
      "\n",
      "     G20TREOWRI  G20ATGDDON  G20ATGRPAI  G20ATGPERI  ...  G20PREGHAW  \\\n",
      "108           0        1049         234          58  ...           6   \n",
      "\n",
      "     G20PREIWES  G20PREOOTH  G20PREOSAN  G20PREOWRI  G20SOSDCON  G20SOSRPAI  \\\n",
      "108           5          12           3           9         962         265   \n",
      "\n",
      "     G20SOSISMI  G20SOSPERI  G20SOSOWRI  \n",
      "108          70          44           0  \n",
      "\n",
      "[1 rows x 51 columns]\n"
     ]
    }
   ],
   "source": [
    "frame.loc[frame[\"NAME20\"]==\"Huntington\"]\n",
    "\n",
    "for race in data_columns:\n",
    "    frame.loc[frame[\"NAME20\"]==\"Buels Gore\",race] = round(frame.loc[frame[\"NAME20\"]==\"Huntington\",race].values[0]*0.010678,0).astype(int)\n",
    "    frame.loc[frame[\"NAME20\"]==\"Huntington\",race]= round(frame.loc[frame[\"NAME20\"]==\"Huntington\",race].values[0]*(1-0.010678),0).astype(int)\n",
    "print(frame.loc[frame[\"NAME20\"]==\"Buels Gore\"])\n",
    "print(frame.loc[frame[\"NAME20\"]==\"Huntington\"])"
   ]
  },
  {
   "cell_type": "markdown",
   "id": "a3a3c7ad",
   "metadata": {},
   "source": [
    "#### Allocate votes to Ferdinand from Brighton"
   ]
  },
  {
   "cell_type": "code",
   "execution_count": 25,
   "id": "d1d591f7",
   "metadata": {},
   "outputs": [
    {
     "name": "stdout",
     "output_type": "stream",
     "text": [
      "        NAME20 NAME20_1  G20TREDPEA  G20TRERBRA  G20TREIWRI  G20TREPERI  \\\n",
      "277  Ferdinand                    5           6           1           0   \n",
      "\n",
      "     G20TREOWRI  G20ATGDDON  G20ATGRPAI  G20ATGPERI  ...  G20PREGHAW  \\\n",
      "277           0           6           5           1  ...           0   \n",
      "\n",
      "     G20PREIWES  G20PREOOTH  G20PREOSAN  G20PREOWRI  G20SOSDCON  G20SOSRPAI  \\\n",
      "277           0           0           0           0           5           6   \n",
      "\n",
      "     G20SOSISMI  G20SOSPERI  G20SOSOWRI  \n",
      "277           1           0           0  \n",
      "\n",
      "[1 rows x 51 columns]\n",
      "      NAME20 NAME20_1  G20TREDPEA  G20TRERBRA  G20TREIWRI  G20TREPERI  \\\n",
      "30  Brighton      NaN         224         270          48          17   \n",
      "\n",
      "    G20TREOWRI  G20ATGDDON  G20ATGRPAI  G20ATGPERI  ...  G20PREGHAW  \\\n",
      "30           0         269         233          23  ...           2   \n",
      "\n",
      "    G20PREIWES  G20PREOOTH  G20PREOSAN  G20PREOWRI  G20SOSDCON  G20SOSRPAI  \\\n",
      "30           3           4           2           1         238         275   \n",
      "\n",
      "    G20SOSISMI  G20SOSPERI  G20SOSOWRI  \n",
      "30          41          16           0  \n",
      "\n",
      "[1 rows x 51 columns]\n"
     ]
    }
   ],
   "source": [
    "for race in data_columns:\n",
    "    frame.loc[frame[\"NAME20\"]==\"Ferdinand\",race] = round(frame.loc[frame[\"NAME20\"]==\"Brighton\",race].values[0]*0.021298,0).astype(int)\n",
    "    frame.loc[frame[\"NAME20\"]==\"Brighton\",race]= round(frame.loc[frame[\"NAME20\"]==\"Brighton\",race].values[0]*(1-0.021298),0).astype(int)\n",
    "print(frame.loc[frame[\"NAME20\"]==\"Ferdinand\"])\n",
    "print(frame.loc[frame[\"NAME20\"]==\"Brighton\"])"
   ]
  },
  {
   "cell_type": "markdown",
   "id": "b89da40c",
   "metadata": {},
   "source": [
    "#### Allocate votes to Glastenbury from Shaftsbury"
   ]
  },
  {
   "cell_type": "code",
   "execution_count": 26,
   "id": "997d151c",
   "metadata": {},
   "outputs": [
    {
     "name": "stdout",
     "output_type": "stream",
     "text": [
      "          NAME20 NAME20_1  G20TREDPEA  G20TRERBRA  G20TREIWRI  G20TREPERI  \\\n",
      "278  Glastenbury                    0           0           0           0   \n",
      "\n",
      "     G20TREOWRI  G20ATGDDON  G20ATGRPAI  G20ATGPERI  ...  G20PREGHAW  \\\n",
      "278           0           0           0           0  ...           0   \n",
      "\n",
      "     G20PREIWES  G20PREOOTH  G20PREOSAN  G20PREOWRI  G20SOSDCON  G20SOSRPAI  \\\n",
      "278           0           0           0           0           0           0   \n",
      "\n",
      "     G20SOSISMI  G20SOSPERI  G20SOSOWRI  \n",
      "278           0           0           0  \n",
      "\n",
      "[1 rows x 51 columns]\n",
      "         NAME20 NAME20_1  G20TREDPEA  G20TRERBRA  G20TREIWRI  G20TREPERI  \\\n",
      "191  Shaftsbury      NaN        1114         775         106          84   \n",
      "\n",
      "     G20TREOWRI  G20ATGDDON  G20ATGRPAI  G20ATGPERI  ...  G20PREGHAW  \\\n",
      "191           3        1228         756          91  ...           7   \n",
      "\n",
      "     G20PREIWES  G20PREOOTH  G20PREOSAN  G20PREOWRI  G20SOSDCON  G20SOSRPAI  \\\n",
      "191          11          20           1           3        1195         712   \n",
      "\n",
      "     G20SOSISMI  G20SOSPERI  G20SOSOWRI  \n",
      "191         111          71           2  \n",
      "\n",
      "[1 rows x 51 columns]\n"
     ]
    }
   ],
   "source": [
    "for race in data_columns:\n",
    "    frame.loc[frame[\"NAME20\"]==\"Glastenbury\",race] = round(frame.loc[frame[\"NAME20\"]==\"Shaftsbury\",race].values[0]*0,0).astype(int)\n",
    "    frame.loc[frame[\"NAME20\"]==\"Shaftsbury\",race]= round(frame.loc[frame[\"NAME20\"]==\"Shaftsbury\",race].values[0]*(1-0),0).astype(int)\n",
    "print(frame.loc[frame[\"NAME20\"]==\"Glastenbury\"])\n",
    "print(frame.loc[frame[\"NAME20\"]==\"Shaftsbury\"])"
   ]
  },
  {
   "cell_type": "markdown",
   "id": "77ec5ebe",
   "metadata": {},
   "source": [
    "#### Compare race-wide election totals against VEST to make sure totals still match"
   ]
  },
  {
   "cell_type": "code",
   "execution_count": 27,
   "id": "6afd071c",
   "metadata": {},
   "outputs": [
    {
     "name": "stdout",
     "output_type": "stream",
     "text": [
      "\n",
      "All races are equal\n"
     ]
    }
   ],
   "source": [
    "for race in data_columns:\n",
    "    if (sum(vest_vt_20[race])-sum(frame[race]) != 0):\n",
    "        print(race+\" has a difference of \"+str(sum(vest_vt_20[race])-sum(frame[race]))+\" votes\")\n",
    "        print(\"\\tVEST: \"+str(sum(vest_vt_20[race]))+\" votes\")\n",
    "        print(\"\\tSOURCES: \"+str(sum(frame[race]))+\" votes\")\n",
    "print(\"\")\n",
    "print(\"All races are equal\")"
   ]
  },
  {
   "cell_type": "markdown",
   "id": "10334572",
   "metadata": {},
   "source": [
    "#### Compare county-by-county election totals against VEST (see below)"
   ]
  },
  {
   "cell_type": "markdown",
   "id": "0f0166f9",
   "metadata": {},
   "source": [
    "The election results file does not contain county information, but the shapefile information does, so this will be calculated after joining election results to the shapefile."
   ]
  },
  {
   "cell_type": "markdown",
   "id": "497fff40",
   "metadata": {},
   "source": [
    "#### Compare precinct-by-precinct election results against VEST (see below)"
   ]
  },
  {
   "cell_type": "markdown",
   "id": "1785b363",
   "metadata": {},
   "source": [
    "Given the smallness of the file, this will be calculated after joining the election results to the shapefile"
   ]
  },
  {
   "cell_type": "markdown",
   "id": "1b2b91f9",
   "metadata": {},
   "source": [
    "## Shapefiles"
   ]
  },
  {
   "cell_type": "markdown",
   "id": "187f4caa",
   "metadata": {},
   "source": [
    "### VEST Documentation"
   ]
  },
  {
   "cell_type": "markdown",
   "id": "f6c62ab9",
   "metadata": {},
   "source": [
    "Precinct shapefile from the U.S. Census Bureau's 2020 Redistricting Data Program  \n",
    "\n",
    "The Census VTD shapefile features city wards. However, precinct boundaries for state and federal elections are not based on city wards. They are instead defined by legislative districts wherever they cross municipal boundaries. Therefore, city wards were merged in the shapefile and cities or townships were instead split into precincts wherever necessary using the state legislative district shapefile."
   ]
  },
  {
   "cell_type": "markdown",
   "id": "eb61d290",
   "metadata": {},
   "source": [
    "https://www.census.gov/geographies/mapping-files/time-series/geo/tiger-line-file.html"
   ]
  },
  {
   "cell_type": "markdown",
   "id": "84af29d4",
   "metadata": {},
   "source": [
    "### Plot VEST"
   ]
  },
  {
   "cell_type": "code",
   "execution_count": 28,
   "id": "47fa835d",
   "metadata": {},
   "outputs": [
    {
     "data": {
      "text/plain": [
       "<AxesSubplot:>"
      ]
     },
     "execution_count": 28,
     "metadata": {},
     "output_type": "execute_result"
    },
    {
     "data": {
      "image/png": "[encoded data removed]",
      "text/plain": [
       "<Figure size 720x720 with 1 Axes>"
      ]
     },
     "metadata": {
      "needs_background": "light"
     },
     "output_type": "display_data"
    }
   ],
   "source": [
    "vest_vt_20.boundary.plot(figsize=(10,10))"
   ]
  },
  {
   "cell_type": "markdown",
   "id": "6aaf649d",
   "metadata": {},
   "source": [
    "### Import Census File"
   ]
  },
  {
   "cell_type": "code",
   "execution_count": 29,
   "id": "b479598e",
   "metadata": {},
   "outputs": [],
   "source": [
    "#Load in the nationwide FIPS file\n",
    "fips_file = pd.read_csv(\"./raw-from-source/FIPS/US_FIPS_Codes.csv\")\n",
    "fips_file = fips_file[fips_file[\"State\"]==\"Vermont\"]\n",
    "fips_file[\"FIPS County\"]=fips_file[\"FIPS County\"].astype(str)\n",
    "\n",
    "#Make the FIPS three digits\n",
    "fips_file[\"FIPS County\"]=fips_file[\"FIPS County\"].str.zfill(3)\n",
    "\n",
    "shp_list = []\n",
    "for fips in list(fips_file[\"FIPS County\"]):\n",
    "    file_path = \"./raw-from-source/Shapefiles/Census/tl_2020_50_all/tl_2020_50\"+str(fips)+\"_vtd20.shp\"\n",
    "    county_val = gp.read_file(file_path)\n",
    "    shp_list.append(county_val)\n",
    "full_shapefiles_census = pd.concat(shp_list, axis=0, ignore_index=True)"
   ]
  },
  {
   "cell_type": "code",
   "execution_count": 30,
   "id": "fcee42d6",
   "metadata": {},
   "outputs": [
    {
     "data": {
      "text/plain": [
       "<AxesSubplot:>"
      ]
     },
     "execution_count": 30,
     "metadata": {},
     "output_type": "execute_result"
    },
    {
     "data": {
      "image/png": "[encoded data removed]",
      "text/plain": [
       "<Figure size 432x288 with 1 Axes>"
      ]
     },
     "metadata": {
      "needs_background": "light"
     },
     "output_type": "display_data"
    }
   ],
   "source": [
    "full_shapefiles_census.plot()"
   ]
  },
  {
   "cell_type": "code",
   "execution_count": 31,
   "id": "42c3a800",
   "metadata": {},
   "outputs": [],
   "source": [
    "state_distr = gp.read_file(\"./raw-from-source/Shapefiles/VT_Data_-_Vermont_House_Districts_2012/VT_Data_-_Vermont_House_Districts_2012.shp\")\n",
    "\n",
    "#Grab needed columns\n",
    "state_distr = state_distr[['DISTRICT','NAME','geometry']]\n",
    "\n",
    "#Modify CRS\n",
    "state_distr=state_distr.to_crs(vest_vt_20.crs)\n",
    "\n",
    "county_sub = gp.read_file(\"./raw-from-source/Shapefiles/VT_2010_Census_County_Subdivision_Boundaries_and_Statistics/VT_2010_Census_County_Subdivision_Boundaries_and_Statistics.shp\")\n",
    "\n",
    "#Grab columns\n",
    "county_sub = county_sub[['COUNTYFP10','NAME10', 'NAMELSAD10','geometry']]\n",
    "\n",
    "#Modify CRS\n",
    "county_sub=county_sub.to_crs(vest_vt_20.crs)"
   ]
  },
  {
   "cell_type": "markdown",
   "id": "c53c2d3d",
   "metadata": {},
   "source": [
    "### Compare to VEST file\n",
    "\n",
    "Aside from the handful of merges VEST mentions, these seem to match up"
   ]
  },
  {
   "cell_type": "code",
   "execution_count": 62,
   "id": "8b37a5ce",
   "metadata": {},
   "outputs": [
    {
     "data": {
      "text/plain": [
       "<AxesSubplot:>"
      ]
     },
     "execution_count": 62,
     "metadata": {},
     "output_type": "execute_result"
    },
    {
     "data": {
      "image/png": "[encoded data removed]",
      "text/plain": [
       "<Figure size 720x720 with 1 Axes>"
      ]
     },
     "metadata": {
      "needs_background": "light"
     },
     "output_type": "display_data"
    }
   ],
   "source": [
    "ax_2 = vest_vt_20.boundary.plot(figsize=(10,10),color=\"red\")\n",
    "full_shapefiles_census.boundary.plot(figsize=(10,10),ax=ax_2,color=\"green\")"
   ]
  },
  {
   "cell_type": "code",
   "execution_count": 32,
   "id": "77041ae4",
   "metadata": {},
   "outputs": [
    {
     "data": {
      "text/plain": [
       "<AxesSubplot:>"
      ]
     },
     "execution_count": 32,
     "metadata": {},
     "output_type": "execute_result"
    },
    {
     "data": {
      "image/png": "[encoded data removed]",
      "text/plain": [
       "<Figure size 720x720 with 1 Axes>"
      ]
     },
     "metadata": {
      "needs_background": "light"
     },
     "output_type": "display_data"
    }
   ],
   "source": [
    "ax_2 = full_shapefiles_census.boundary.plot(figsize=(10,10),color=\"red\")\n",
    "vest_vt_20.boundary.plot(figsize=(10,10),ax=ax_2,color=\"green\")"
   ]
  },
  {
   "cell_type": "markdown",
   "id": "e6c1912f",
   "metadata": {},
   "source": [
    "## Join Election Results to Shapefile"
   ]
  },
  {
   "cell_type": "markdown",
   "id": "86d15e10",
   "metadata": {},
   "source": [
    "### Matching Names"
   ]
  },
  {
   "cell_type": "code",
   "execution_count": 33,
   "id": "49dc40fb",
   "metadata": {},
   "outputs": [
    {
     "data": {
      "text/html": [
       "<div>\n",
       "<style scoped>\n",
       "    .dataframe tbody tr th:only-of-type {\n",
       "        vertical-align: middle;\n",
       "    }\n",
       "\n",
       "    .dataframe tbody tr th {\n",
       "        vertical-align: top;\n",
       "    }\n",
       "\n",
       "    .dataframe thead th {\n",
       "        text-align: right;\n",
       "    }\n",
       "</style>\n",
       "<table border=\"1\" class=\"dataframe\">\n",
       "  <thead>\n",
       "    <tr style=\"text-align: right;\">\n",
       "      <th></th>\n",
       "      <th>STATEFP20</th>\n",
       "      <th>COUNTYFP20</th>\n",
       "      <th>VTDST20</th>\n",
       "      <th>GEOID20</th>\n",
       "      <th>VTDI20</th>\n",
       "      <th>NAME20</th>\n",
       "      <th>NAMELSAD20</th>\n",
       "      <th>LSAD20</th>\n",
       "      <th>MTFCC20</th>\n",
       "      <th>FUNCSTAT20</th>\n",
       "      <th>ALAND20</th>\n",
       "      <th>AWATER20</th>\n",
       "      <th>INTPTLAT20</th>\n",
       "      <th>INTPTLON20</th>\n",
       "      <th>geometry</th>\n",
       "    </tr>\n",
       "  </thead>\n",
       "  <tbody>\n",
       "    <tr>\n",
       "      <th>0</th>\n",
       "      <td>50</td>\n",
       "      <td>001</td>\n",
       "      <td>500101</td>\n",
       "      <td>50001500101</td>\n",
       "      <td>A</td>\n",
       "      <td>Addison</td>\n",
       "      <td>Addison Voting District</td>\n",
       "      <td>V2</td>\n",
       "      <td>G5240</td>\n",
       "      <td>N</td>\n",
       "      <td>107850893</td>\n",
       "      <td>19186009</td>\n",
       "      <td>+44.0585392</td>\n",
       "      <td>-073.3323146</td>\n",
       "      <td>POLYGON ((-73.43771 44.04610, -73.43764 44.046...</td>\n",
       "    </tr>\n",
       "    <tr>\n",
       "      <th>1</th>\n",
       "      <td>50</td>\n",
       "      <td>001</td>\n",
       "      <td>500102</td>\n",
       "      <td>50001500102</td>\n",
       "      <td>A</td>\n",
       "      <td>Bridport</td>\n",
       "      <td>Bridport Voting District</td>\n",
       "      <td>V2</td>\n",
       "      <td>G5240</td>\n",
       "      <td>N</td>\n",
       "      <td>113122218</td>\n",
       "      <td>6636563</td>\n",
       "      <td>+43.9817242</td>\n",
       "      <td>-073.3319365</td>\n",
       "      <td>POLYGON ((-73.41251 43.98222, -73.41244 43.982...</td>\n",
       "    </tr>\n",
       "    <tr>\n",
       "      <th>2</th>\n",
       "      <td>50</td>\n",
       "      <td>001</td>\n",
       "      <td>500103</td>\n",
       "      <td>50001500103</td>\n",
       "      <td>A</td>\n",
       "      <td>Bristol</td>\n",
       "      <td>Bristol Voting District</td>\n",
       "      <td>V2</td>\n",
       "      <td>G5240</td>\n",
       "      <td>N</td>\n",
       "      <td>105580399</td>\n",
       "      <td>1711997</td>\n",
       "      <td>+44.0981848</td>\n",
       "      <td>-073.0491272</td>\n",
       "      <td>POLYGON ((-73.14963 44.17671, -73.14873 44.176...</td>\n",
       "    </tr>\n",
       "    <tr>\n",
       "      <th>3</th>\n",
       "      <td>50</td>\n",
       "      <td>001</td>\n",
       "      <td>500104</td>\n",
       "      <td>50001500104</td>\n",
       "      <td>A</td>\n",
       "      <td>Cornwall</td>\n",
       "      <td>Cornwall Voting District</td>\n",
       "      <td>V2</td>\n",
       "      <td>G5240</td>\n",
       "      <td>N</td>\n",
       "      <td>74002625</td>\n",
       "      <td>422336</td>\n",
       "      <td>+43.9629183</td>\n",
       "      <td>-073.2177012</td>\n",
       "      <td>POLYGON ((-73.25925 43.94736, -73.25925 43.947...</td>\n",
       "    </tr>\n",
       "    <tr>\n",
       "      <th>4</th>\n",
       "      <td>50</td>\n",
       "      <td>001</td>\n",
       "      <td>500105</td>\n",
       "      <td>50001500105</td>\n",
       "      <td>A</td>\n",
       "      <td>Ferrisburgh</td>\n",
       "      <td>Ferrisburgh Voting District</td>\n",
       "      <td>V2</td>\n",
       "      <td>G5240</td>\n",
       "      <td>N</td>\n",
       "      <td>122958389</td>\n",
       "      <td>35539847</td>\n",
       "      <td>+44.2031331</td>\n",
       "      <td>-073.2791964</td>\n",
       "      <td>POLYGON ((-73.40066 44.15341, -73.40029 44.154...</td>\n",
       "    </tr>\n",
       "    <tr>\n",
       "      <th>...</th>\n",
       "      <td>...</td>\n",
       "      <td>...</td>\n",
       "      <td>...</td>\n",
       "      <td>...</td>\n",
       "      <td>...</td>\n",
       "      <td>...</td>\n",
       "      <td>...</td>\n",
       "      <td>...</td>\n",
       "      <td>...</td>\n",
       "      <td>...</td>\n",
       "      <td>...</td>\n",
       "      <td>...</td>\n",
       "      <td>...</td>\n",
       "      <td>...</td>\n",
       "      <td>...</td>\n",
       "    </tr>\n",
       "    <tr>\n",
       "      <th>280</th>\n",
       "      <td>50</td>\n",
       "      <td>027</td>\n",
       "      <td>502721</td>\n",
       "      <td>50027502721</td>\n",
       "      <td>A</td>\n",
       "      <td>Weathersfield</td>\n",
       "      <td>Weathersfield Voting District</td>\n",
       "      <td>V2</td>\n",
       "      <td>G5240</td>\n",
       "      <td>N</td>\n",
       "      <td>112650836</td>\n",
       "      <td>1450695</td>\n",
       "      <td>+43.3921094</td>\n",
       "      <td>-072.4767836</td>\n",
       "      <td>POLYGON ((-72.54544 43.34529, -72.54514 43.349...</td>\n",
       "    </tr>\n",
       "    <tr>\n",
       "      <th>281</th>\n",
       "      <td>50</td>\n",
       "      <td>027</td>\n",
       "      <td>502722</td>\n",
       "      <td>50027502722</td>\n",
       "      <td>A</td>\n",
       "      <td>West Windsor</td>\n",
       "      <td>West Windsor Voting District</td>\n",
       "      <td>V2</td>\n",
       "      <td>G5240</td>\n",
       "      <td>N</td>\n",
       "      <td>64175385</td>\n",
       "      <td>236018</td>\n",
       "      <td>+43.4714681</td>\n",
       "      <td>-072.5026184</td>\n",
       "      <td>POLYGON ((-72.53283 43.53387, -72.53111 43.533...</td>\n",
       "    </tr>\n",
       "    <tr>\n",
       "      <th>282</th>\n",
       "      <td>50</td>\n",
       "      <td>027</td>\n",
       "      <td>502723</td>\n",
       "      <td>50027502723</td>\n",
       "      <td>A</td>\n",
       "      <td>Weston</td>\n",
       "      <td>Weston Voting District</td>\n",
       "      <td>V2</td>\n",
       "      <td>G5240</td>\n",
       "      <td>N</td>\n",
       "      <td>91737984</td>\n",
       "      <td>509336</td>\n",
       "      <td>+43.3214411</td>\n",
       "      <td>-072.8029029</td>\n",
       "      <td>POLYGON ((-72.86814 43.30742, -72.86809 43.308...</td>\n",
       "    </tr>\n",
       "    <tr>\n",
       "      <th>283</th>\n",
       "      <td>50</td>\n",
       "      <td>027</td>\n",
       "      <td>502724</td>\n",
       "      <td>50027502724</td>\n",
       "      <td>A</td>\n",
       "      <td>Windsor</td>\n",
       "      <td>Windsor Voting District</td>\n",
       "      <td>V2</td>\n",
       "      <td>G5240</td>\n",
       "      <td>N</td>\n",
       "      <td>50392039</td>\n",
       "      <td>720453</td>\n",
       "      <td>+43.4753566</td>\n",
       "      <td>-072.4210454</td>\n",
       "      <td>POLYGON ((-72.45487 43.43548, -72.45463 43.438...</td>\n",
       "    </tr>\n",
       "    <tr>\n",
       "      <th>284</th>\n",
       "      <td>50</td>\n",
       "      <td>027</td>\n",
       "      <td>502725</td>\n",
       "      <td>50027502725</td>\n",
       "      <td>A</td>\n",
       "      <td>Woodstock</td>\n",
       "      <td>Woodstock Voting District</td>\n",
       "      <td>V2</td>\n",
       "      <td>G5240</td>\n",
       "      <td>N</td>\n",
       "      <td>114143178</td>\n",
       "      <td>727618</td>\n",
       "      <td>+43.5943771</td>\n",
       "      <td>-072.5482791</td>\n",
       "      <td>POLYGON ((-72.63773 43.55892, -72.62465 43.580...</td>\n",
       "    </tr>\n",
       "  </tbody>\n",
       "</table>\n",
       "<p>285 rows × 15 columns</p>\n",
       "</div>"
      ],
      "text/plain": [
       "    STATEFP20 COUNTYFP20 VTDST20      GEOID20 VTDI20         NAME20  \\\n",
       "0          50        001  500101  50001500101      A        Addison   \n",
       "1          50        001  500102  50001500102      A       Bridport   \n",
       "2          50        001  500103  50001500103      A        Bristol   \n",
       "3          50        001  500104  50001500104      A       Cornwall   \n",
       "4          50        001  500105  50001500105      A    Ferrisburgh   \n",
       "..        ...        ...     ...          ...    ...            ...   \n",
       "280        50        027  502721  50027502721      A  Weathersfield   \n",
       "281        50        027  502722  50027502722      A   West Windsor   \n",
       "282        50        027  502723  50027502723      A         Weston   \n",
       "283        50        027  502724  50027502724      A        Windsor   \n",
       "284        50        027  502725  50027502725      A      Woodstock   \n",
       "\n",
       "                        NAMELSAD20 LSAD20 MTFCC20 FUNCSTAT20    ALAND20  \\\n",
       "0          Addison Voting District     V2   G5240          N  107850893   \n",
       "1         Bridport Voting District     V2   G5240          N  113122218   \n",
       "2          Bristol Voting District     V2   G5240          N  105580399   \n",
       "3         Cornwall Voting District     V2   G5240          N   74002625   \n",
       "4      Ferrisburgh Voting District     V2   G5240          N  122958389   \n",
       "..                             ...    ...     ...        ...        ...   \n",
       "280  Weathersfield Voting District     V2   G5240          N  112650836   \n",
       "281   West Windsor Voting District     V2   G5240          N   64175385   \n",
       "282         Weston Voting District     V2   G5240          N   91737984   \n",
       "283        Windsor Voting District     V2   G5240          N   50392039   \n",
       "284      Woodstock Voting District     V2   G5240          N  114143178   \n",
       "\n",
       "     AWATER20   INTPTLAT20    INTPTLON20  \\\n",
       "0    19186009  +44.0585392  -073.3323146   \n",
       "1     6636563  +43.9817242  -073.3319365   \n",
       "2     1711997  +44.0981848  -073.0491272   \n",
       "3      422336  +43.9629183  -073.2177012   \n",
       "4    35539847  +44.2031331  -073.2791964   \n",
       "..        ...          ...           ...   \n",
       "280   1450695  +43.3921094  -072.4767836   \n",
       "281    236018  +43.4714681  -072.5026184   \n",
       "282    509336  +43.3214411  -072.8029029   \n",
       "283    720453  +43.4753566  -072.4210454   \n",
       "284    727618  +43.5943771  -072.5482791   \n",
       "\n",
       "                                              geometry  \n",
       "0    POLYGON ((-73.43771 44.04610, -73.43764 44.046...  \n",
       "1    POLYGON ((-73.41251 43.98222, -73.41244 43.982...  \n",
       "2    POLYGON ((-73.14963 44.17671, -73.14873 44.176...  \n",
       "3    POLYGON ((-73.25925 43.94736, -73.25925 43.947...  \n",
       "4    POLYGON ((-73.40066 44.15341, -73.40029 44.154...  \n",
       "..                                                 ...  \n",
       "280  POLYGON ((-72.54544 43.34529, -72.54514 43.349...  \n",
       "281  POLYGON ((-72.53283 43.53387, -72.53111 43.533...  \n",
       "282  POLYGON ((-72.86814 43.30742, -72.86809 43.308...  \n",
       "283  POLYGON ((-72.45487 43.43548, -72.45463 43.438...  \n",
       "284  POLYGON ((-72.63773 43.55892, -72.62465 43.580...  \n",
       "\n",
       "[285 rows x 15 columns]"
      ]
     },
     "execution_count": 33,
     "metadata": {},
     "output_type": "execute_result"
    }
   ],
   "source": [
    "full_shapefiles_census"
   ]
  },
  {
   "cell_type": "code",
   "execution_count": 34,
   "id": "638b8227",
   "metadata": {},
   "outputs": [
    {
     "name": "stdout",
     "output_type": "stream",
     "text": [
      "(285, 15)\n",
      "(279, 51)\n",
      "Index(['NAME20', 'NAME20_1', 'G20TREDPEA', 'G20TRERBRA', 'G20TREIWRI',\n",
      "       'G20TREPERI', 'G20TREOWRI', 'G20ATGDDON', 'G20ATGRPAI', 'G20ATGPERI',\n",
      "       'G20ATGOWRI', 'G20AUDOHOF', 'G20AUDPERI', 'G20AUDOWRI', 'G20LTGDGRA',\n",
      "       'G20LTGRMIL', 'G20LTGPERI', 'G20LTGIBIL', 'G20LTGBCOR',\n",
      "       'G20LTGOWRI_to_add', 'G20LTGOWRI', 'G20GOVRSCO', 'G20GOVDZUC',\n",
      "       'G20GOVIHOY', 'G20GOVTPEY', 'G20GOVIWHI', 'G20GOVIBIL', 'G20GOVIDEV',\n",
      "       'G20GOVUDIC', 'G20GOVOWRI', 'G20HALDWEL', 'G20HALDRBE', 'G20HALIBEC',\n",
      "       'G20HALIHOR', 'G20HALCHEL', 'G20HALIORR', 'G20HALITRU', 'G20HALOWRI',\n",
      "       'G20PREDBID', 'G20PRERTRU', 'G20PRELJOR', 'G20PREGHAW', 'G20PREIWES',\n",
      "       'G20PREOOTH', 'G20PREOSAN', 'G20PREOWRI', 'G20SOSDCON', 'G20SOSRPAI',\n",
      "       'G20SOSISMI', 'G20SOSPERI', 'G20SOSOWRI'],\n",
      "      dtype='object')\n",
      "285\n",
      "279\n"
     ]
    }
   ],
   "source": [
    "#Check number of rows and try to find a unique ID for each\n",
    "\n",
    "print(full_shapefiles_census.shape)\n",
    "\n",
    "print(frame.shape)\n",
    "print(frame.columns)\n",
    "print(len((full_shapefiles_census[\"NAME20\"]+full_shapefiles_census[\"NAMELSAD20\"]).unique()))\n",
    "print(len((frame['NAME20']+frame['NAME20_1'].astype(str)).unique()))\n",
    "\n",
    "#As you'll notice, there are 6 fewer election result columns"
   ]
  },
  {
   "cell_type": "code",
   "execution_count": 35,
   "id": "72b688b0",
   "metadata": {},
   "outputs": [],
   "source": [
    "full_shapefiles_census[\"join_col\"]=full_shapefiles_census[\"NAME20\"]+\"-\"+full_shapefiles_census[\"NAMELSAD20\"]\n",
    "frame[\"NAME20_1\"]=frame[\"NAME20_1\"].fillna(\"\")\n",
    "frame[\"join_col\"]=frame[\"NAME20\"]+\"-\"+frame[\"NAME20_1\"].astype(str)"
   ]
  },
  {
   "cell_type": "code",
   "execution_count": 36,
   "id": "54fdd17c",
   "metadata": {},
   "outputs": [],
   "source": [
    "frame[\"join_col\"].to_csv(\"./election_unique_ID.csv\")\n",
    "full_shapefiles_census[\"join_col\"].to_csv(\"./shapefile_unique_ID.csv\")"
   ]
  },
  {
   "cell_type": "markdown",
   "id": "b4caa7c2",
   "metadata": {},
   "source": [
    "### Change the names to match (look through dictionary to see typical string differences)"
   ]
  },
  {
   "cell_type": "code",
   "execution_count": 37,
   "id": "4386d039",
   "metadata": {},
   "outputs": [
    {
     "data": {
      "text/html": [
       "<div>\n",
       "<style scoped>\n",
       "    .dataframe tbody tr th:only-of-type {\n",
       "        vertical-align: middle;\n",
       "    }\n",
       "\n",
       "    .dataframe tbody tr th {\n",
       "        vertical-align: top;\n",
       "    }\n",
       "\n",
       "    .dataframe thead th {\n",
       "        text-align: right;\n",
       "    }\n",
       "</style>\n",
       "<table border=\"1\" class=\"dataframe\">\n",
       "  <thead>\n",
       "    <tr style=\"text-align: right;\">\n",
       "      <th></th>\n",
       "      <th>DISTRICT</th>\n",
       "      <th>NAME</th>\n",
       "      <th>geometry</th>\n",
       "    </tr>\n",
       "  </thead>\n",
       "  <tbody>\n",
       "    <tr>\n",
       "      <th>12</th>\n",
       "      <td>CAL-1</td>\n",
       "      <td>Caledonia-1</td>\n",
       "      <td>MULTIPOLYGON (((-72.04330 44.15683, -72.04306 ...</td>\n",
       "    </tr>\n",
       "    <tr>\n",
       "      <th>13</th>\n",
       "      <td>CAL-2</td>\n",
       "      <td>Caledonia-2</td>\n",
       "      <td>POLYGON ((-72.37479 44.58412, -72.37455 44.584...</td>\n",
       "    </tr>\n",
       "    <tr>\n",
       "      <th>14</th>\n",
       "      <td>CAL-3</td>\n",
       "      <td>Caledonia-3</td>\n",
       "      <td>POLYGON ((-72.04549 44.39836, -72.04614 44.400...</td>\n",
       "    </tr>\n",
       "    <tr>\n",
       "      <th>15</th>\n",
       "      <td>CAL-4</td>\n",
       "      <td>Caledonia-4</td>\n",
       "      <td>POLYGON ((-72.08385 44.51040, -72.08349 44.511...</td>\n",
       "    </tr>\n",
       "    <tr>\n",
       "      <th>16</th>\n",
       "      <td>CAL-WAS</td>\n",
       "      <td>Caledonia-Washington</td>\n",
       "      <td>POLYGON ((-72.18781 44.27686, -72.18953 44.277...</td>\n",
       "    </tr>\n",
       "    <tr>\n",
       "      <th>17</th>\n",
       "      <td>CHI-1</td>\n",
       "      <td>Chittenden-1</td>\n",
       "      <td>POLYGON ((-72.91929 44.42862, -72.92154 44.418...</td>\n",
       "    </tr>\n",
       "    <tr>\n",
       "      <th>18</th>\n",
       "      <td>CHI-10</td>\n",
       "      <td>Chittenden-10</td>\n",
       "      <td>POLYGON ((-73.09733 44.57049, -73.09780 44.570...</td>\n",
       "    </tr>\n",
       "    <tr>\n",
       "      <th>19</th>\n",
       "      <td>CHI-2</td>\n",
       "      <td>Chittenden-2</td>\n",
       "      <td>POLYGON ((-73.03196 44.46804, -73.03167 44.467...</td>\n",
       "    </tr>\n",
       "    <tr>\n",
       "      <th>20</th>\n",
       "      <td>CHI-3</td>\n",
       "      <td>Chittenden-3</td>\n",
       "      <td>POLYGON ((-72.83864 44.45923, -72.83870 44.459...</td>\n",
       "    </tr>\n",
       "    <tr>\n",
       "      <th>21</th>\n",
       "      <td>CHI-4-1</td>\n",
       "      <td>Chittenden-4-1</td>\n",
       "      <td>POLYGON ((-73.19680 44.26663, -73.19874 44.266...</td>\n",
       "    </tr>\n",
       "    <tr>\n",
       "      <th>22</th>\n",
       "      <td>CHI-4-2</td>\n",
       "      <td>Chittenden-4-2</td>\n",
       "      <td>POLYGON ((-73.16046 44.34208, -73.16287 44.351...</td>\n",
       "    </tr>\n",
       "    <tr>\n",
       "      <th>23</th>\n",
       "      <td>CHI-5-1</td>\n",
       "      <td>Chittenden-5-1</td>\n",
       "      <td>POLYGON ((-73.19645 44.35890, -73.19948 44.358...</td>\n",
       "    </tr>\n",
       "    <tr>\n",
       "      <th>24</th>\n",
       "      <td>CHI-5-2</td>\n",
       "      <td>Chittenden-5-2</td>\n",
       "      <td>POLYGON ((-73.16526 44.36209, -73.16539 44.362...</td>\n",
       "    </tr>\n",
       "    <tr>\n",
       "      <th>25</th>\n",
       "      <td>CHI-6-1</td>\n",
       "      <td>Chittenden-6-1</td>\n",
       "      <td>POLYGON ((-73.27587 44.52985, -73.27502 44.529...</td>\n",
       "    </tr>\n",
       "    <tr>\n",
       "      <th>26</th>\n",
       "      <td>CHI-6-2</td>\n",
       "      <td>Chittenden-6-2</td>\n",
       "      <td>POLYGON ((-73.25013 44.52271, -73.24995 44.522...</td>\n",
       "    </tr>\n",
       "    <tr>\n",
       "      <th>27</th>\n",
       "      <td>CHI-6-3</td>\n",
       "      <td>Chittenden-6-3</td>\n",
       "      <td>POLYGON ((-73.22145 44.47348, -73.22148 44.473...</td>\n",
       "    </tr>\n",
       "    <tr>\n",
       "      <th>28</th>\n",
       "      <td>CHI-6-4</td>\n",
       "      <td>Chittenden-6-4</td>\n",
       "      <td>POLYGON ((-73.18013 44.48150, -73.18058 44.481...</td>\n",
       "    </tr>\n",
       "    <tr>\n",
       "      <th>29</th>\n",
       "      <td>CHI-6-5</td>\n",
       "      <td>Chittenden-6-5</td>\n",
       "      <td>POLYGON ((-73.20944 44.44593, -73.20970 44.445...</td>\n",
       "    </tr>\n",
       "    <tr>\n",
       "      <th>30</th>\n",
       "      <td>CHI-6-6</td>\n",
       "      <td>Chittenden-6-6</td>\n",
       "      <td>POLYGON ((-73.19732 44.46819, -73.19729 44.468...</td>\n",
       "    </tr>\n",
       "    <tr>\n",
       "      <th>31</th>\n",
       "      <td>CHI-6-7</td>\n",
       "      <td>Chittenden-6-7</td>\n",
       "      <td>POLYGON ((-73.20199 44.49250, -73.20188 44.492...</td>\n",
       "    </tr>\n",
       "    <tr>\n",
       "      <th>32</th>\n",
       "      <td>CHI-7-1</td>\n",
       "      <td>Chittenden-7-1</td>\n",
       "      <td>POLYGON ((-73.32121 44.52032, -73.30333 44.524...</td>\n",
       "    </tr>\n",
       "    <tr>\n",
       "      <th>33</th>\n",
       "      <td>CHI-7-2</td>\n",
       "      <td>Chittenden-7-2</td>\n",
       "      <td>POLYGON ((-73.15448 44.40538, -73.15764 44.406...</td>\n",
       "    </tr>\n",
       "    <tr>\n",
       "      <th>34</th>\n",
       "      <td>CHI-7-3</td>\n",
       "      <td>Chittenden-7-3</td>\n",
       "      <td>POLYGON ((-73.17709 44.44322, -73.17918 44.442...</td>\n",
       "    </tr>\n",
       "    <tr>\n",
       "      <th>35</th>\n",
       "      <td>CHI-7-4</td>\n",
       "      <td>Chittenden-7-4</td>\n",
       "      <td>POLYGON ((-73.17093 44.48897, -73.17073 44.489...</td>\n",
       "    </tr>\n",
       "    <tr>\n",
       "      <th>36</th>\n",
       "      <td>CHI-8-1</td>\n",
       "      <td>Chittenden-8-1</td>\n",
       "      <td>POLYGON ((-73.15740 44.49013, -73.15236 44.497...</td>\n",
       "    </tr>\n",
       "    <tr>\n",
       "      <th>37</th>\n",
       "      <td>CHI-8-2</td>\n",
       "      <td>Chittenden-8-2</td>\n",
       "      <td>POLYGON ((-73.08928 44.48079, -73.08973 44.480...</td>\n",
       "    </tr>\n",
       "    <tr>\n",
       "      <th>38</th>\n",
       "      <td>CHI-8-3</td>\n",
       "      <td>Chittenden-8-3</td>\n",
       "      <td>POLYGON ((-73.11971 44.54046, -73.11974 44.540...</td>\n",
       "    </tr>\n",
       "    <tr>\n",
       "      <th>39</th>\n",
       "      <td>CHI-9-1</td>\n",
       "      <td>Chittenden-9-1</td>\n",
       "      <td>POLYGON ((-73.17374 44.49967, -73.17382 44.499...</td>\n",
       "    </tr>\n",
       "    <tr>\n",
       "      <th>40</th>\n",
       "      <td>CHI-9-2</td>\n",
       "      <td>Chittenden-9-2</td>\n",
       "      <td>POLYGON ((-73.32121 44.52032, -73.32130 44.520...</td>\n",
       "    </tr>\n",
       "  </tbody>\n",
       "</table>\n",
       "</div>"
      ],
      "text/plain": [
       "   DISTRICT                  NAME  \\\n",
       "12    CAL-1           Caledonia-1   \n",
       "13    CAL-2           Caledonia-2   \n",
       "14    CAL-3           Caledonia-3   \n",
       "15    CAL-4           Caledonia-4   \n",
       "16  CAL-WAS  Caledonia-Washington   \n",
       "17    CHI-1          Chittenden-1   \n",
       "18   CHI-10         Chittenden-10   \n",
       "19    CHI-2          Chittenden-2   \n",
       "20    CHI-3          Chittenden-3   \n",
       "21  CHI-4-1        Chittenden-4-1   \n",
       "22  CHI-4-2        Chittenden-4-2   \n",
       "23  CHI-5-1        Chittenden-5-1   \n",
       "24  CHI-5-2        Chittenden-5-2   \n",
       "25  CHI-6-1        Chittenden-6-1   \n",
       "26  CHI-6-2        Chittenden-6-2   \n",
       "27  CHI-6-3        Chittenden-6-3   \n",
       "28  CHI-6-4        Chittenden-6-4   \n",
       "29  CHI-6-5        Chittenden-6-5   \n",
       "30  CHI-6-6        Chittenden-6-6   \n",
       "31  CHI-6-7        Chittenden-6-7   \n",
       "32  CHI-7-1        Chittenden-7-1   \n",
       "33  CHI-7-2        Chittenden-7-2   \n",
       "34  CHI-7-3        Chittenden-7-3   \n",
       "35  CHI-7-4        Chittenden-7-4   \n",
       "36  CHI-8-1        Chittenden-8-1   \n",
       "37  CHI-8-2        Chittenden-8-2   \n",
       "38  CHI-8-3        Chittenden-8-3   \n",
       "39  CHI-9-1        Chittenden-9-1   \n",
       "40  CHI-9-2        Chittenden-9-2   \n",
       "\n",
       "                                             geometry  \n",
       "12  MULTIPOLYGON (((-72.04330 44.15683, -72.04306 ...  \n",
       "13  POLYGON ((-72.37479 44.58412, -72.37455 44.584...  \n",
       "14  POLYGON ((-72.04549 44.39836, -72.04614 44.400...  \n",
       "15  POLYGON ((-72.08385 44.51040, -72.08349 44.511...  \n",
       "16  POLYGON ((-72.18781 44.27686, -72.18953 44.277...  \n",
       "17  POLYGON ((-72.91929 44.42862, -72.92154 44.418...  \n",
       "18  POLYGON ((-73.09733 44.57049, -73.09780 44.570...  \n",
       "19  POLYGON ((-73.03196 44.46804, -73.03167 44.467...  \n",
       "20  POLYGON ((-72.83864 44.45923, -72.83870 44.459...  \n",
       "21  POLYGON ((-73.19680 44.26663, -73.19874 44.266...  \n",
       "22  POLYGON ((-73.16046 44.34208, -73.16287 44.351...  \n",
       "23  POLYGON ((-73.19645 44.35890, -73.19948 44.358...  \n",
       "24  POLYGON ((-73.16526 44.36209, -73.16539 44.362...  \n",
       "25  POLYGON ((-73.27587 44.52985, -73.27502 44.529...  \n",
       "26  POLYGON ((-73.25013 44.52271, -73.24995 44.522...  \n",
       "27  POLYGON ((-73.22145 44.47348, -73.22148 44.473...  \n",
       "28  POLYGON ((-73.18013 44.48150, -73.18058 44.481...  \n",
       "29  POLYGON ((-73.20944 44.44593, -73.20970 44.445...  \n",
       "30  POLYGON ((-73.19732 44.46819, -73.19729 44.468...  \n",
       "31  POLYGON ((-73.20199 44.49250, -73.20188 44.492...  \n",
       "32  POLYGON ((-73.32121 44.52032, -73.30333 44.524...  \n",
       "33  POLYGON ((-73.15448 44.40538, -73.15764 44.406...  \n",
       "34  POLYGON ((-73.17709 44.44322, -73.17918 44.442...  \n",
       "35  POLYGON ((-73.17093 44.48897, -73.17073 44.489...  \n",
       "36  POLYGON ((-73.15740 44.49013, -73.15236 44.497...  \n",
       "37  POLYGON ((-73.08928 44.48079, -73.08973 44.480...  \n",
       "38  POLYGON ((-73.11971 44.54046, -73.11974 44.540...  \n",
       "39  POLYGON ((-73.17374 44.49967, -73.17382 44.499...  \n",
       "40  POLYGON ((-73.32121 44.52032, -73.32130 44.520...  "
      ]
     },
     "execution_count": 37,
     "metadata": {},
     "output_type": "execute_result"
    }
   ],
   "source": [
    "state_distr[state_distr[\"NAME\"].str[0:1]==\"C\"]"
   ]
  },
  {
   "cell_type": "code",
   "execution_count": 38,
   "id": "fa9ea20a",
   "metadata": {},
   "outputs": [],
   "source": [
    "burlington_ward_list = [\"Burlington Ward 1-Burlington Ward 1\",\n",
    "\"Burlington Ward 2-Burlington Ward 2\",\n",
    "\"Burlington Ward 3-Burlington Ward 3\",\n",
    "\"Burlington Ward 4-Burlington Ward 4\",\n",
    "\"Burlington Ward 5-Burlington Ward 5\",\n",
    "\"Burlington Ward 6-Burlington Ward 6\",\n",
    "\"Burlington Ward 7-Burlington Ward 7\",\n",
    "\"Burlington Ward 8-Burlington Ward 8\",\n",
    "\"Colchester-Colchester Voting District\",\n",
    "\"Hinesburg-Hinesburg Voting District\"]\n",
    "\n",
    "state_district_list = [\"CHI-6-1\",\"CHI-6-2\",\"CHI-6-3\",\"CHI-6-4\",\"CHI-6-5\",\"CHI-6-6\",\"CHI-6-7\",\n",
    "                      \"CHI-9-1\",\"CHI-9-2\",\"CHI-4-2\"]\n",
    "\n"
   ]
  },
  {
   "cell_type": "code",
   "execution_count": 39,
   "id": "5b2afb50",
   "metadata": {},
   "outputs": [
    {
     "data": {
      "text/plain": [
       "<AxesSubplot:>"
      ]
     },
     "execution_count": 39,
     "metadata": {},
     "output_type": "execute_result"
    },
    {
     "data": {
      "image/png": "[encoded data removed]",
      "text/plain": [
       "<Figure size 432x288 with 1 Axes>"
      ]
     },
     "metadata": {
      "needs_background": "light"
     },
     "output_type": "display_data"
    },
    {
     "data": {
      "image/png": "[encoded data removed]",
      "text/plain": [
       "<Figure size 432x288 with 1 Axes>"
      ]
     },
     "metadata": {
      "needs_background": "light"
     },
     "output_type": "display_data"
    }
   ],
   "source": [
    "full_shapefiles_census[full_shapefiles_census[\"join_col\"].isin(burlington_ward_list)].plot(color=\"red\")\n",
    "state_distr[state_distr[\"DISTRICT\"].isin(state_district_list)].plot(color=\"green\")"
   ]
  },
  {
   "cell_type": "markdown",
   "id": "77370ce0",
   "metadata": {},
   "source": [
    "Burlington-Chittenden 6-1\n",
    "Burlington-Chittenden 6-2\n",
    "Burlington-Chittenden 6-3\n",
    "Burlington-Chittenden 6-4\n",
    "Burlington-Chittenden 6-5\n",
    "Burlington-Chittenden 6-6\n",
    "Burlington-Chittenden 6-7"
   ]
  },
  {
   "cell_type": "code",
   "execution_count": 40,
   "id": "e8d5cc4a",
   "metadata": {},
   "outputs": [
    {
     "data": {
      "text/plain": [
       "<AxesSubplot:>"
      ]
     },
     "execution_count": 40,
     "metadata": {},
     "output_type": "execute_result"
    },
    {
     "data": {
      "image/png": "[encoded data removed]",
      "text/plain": [
       "<Figure size 432x288 with 1 Axes>"
      ]
     },
     "metadata": {
      "needs_background": "light"
     },
     "output_type": "display_data"
    }
   ],
   "source": [
    "vest_vt_20[vest_vt_20[\"NAME20\"].str[0:4]==\"Burl\"].plot(column=\"NAME20\")"
   ]
  },
  {
   "cell_type": "code",
   "execution_count": 41,
   "id": "87978370",
   "metadata": {},
   "outputs": [
    {
     "ename": "SyntaxError",
     "evalue": "invalid syntax (<ipython-input-41-a3b92400b6ae>, line 1)",
     "output_type": "error",
     "traceback": [
      "\u001b[0;36m  File \u001b[0;32m\"<ipython-input-41-a3b92400b6ae>\"\u001b[0;36m, line \u001b[0;32m1\u001b[0m\n\u001b[0;31m    Colchester-Chittenden 9-1\u001b[0m\n\u001b[0m                          ^\u001b[0m\n\u001b[0;31mSyntaxError\u001b[0m\u001b[0;31m:\u001b[0m invalid syntax\n"
     ]
    }
   ],
   "source": [
    "Colchester-Chittenden 9-1\n",
    "Colchester-Chittenden 9-2\n",
    "\n",
    "--\n",
    "\n",
    "Colchester-Colchester Voting District"
   ]
  },
  {
   "cell_type": "code",
   "execution_count": null,
   "id": "7130ff0d",
   "metadata": {},
   "outputs": [],
   "source": [
    "Hinesburg-Chittenden 4-1\n",
    "Hinesburg-Chittenden 4-2\n",
    "\n",
    "--\n",
    "\n",
    "Hinesburg-Hinesburg Voting District\n",
    "\n",
    "Milton-Chittenden 10\n",
    "Milton-Grand Isle-Chittenden\n",
    "\n",
    "--\n",
    "\n",
    "Milton-Milton Voting District\n",
    "\n",
    "--\n",
    "\n",
    "Shelburne-Chittenden 5-1\n",
    "Shelburne-Chittenden 5-2\n",
    "\n",
    "--\n",
    "\n",
    "Shelburne-Shelburne Voting District\n",
    "\n",
    "Springfield-Windsor 3-1\n",
    "Springfield-Windsor 3-2\n",
    "\n",
    "--\n",
    "\n",
    "Springfield-Springfield Voting District\n",
    "\n",
    "--\n",
    "\n",
    "St. Albans City-\n",
    "St. Albans Town-Franklin 3-1\n",
    "St. Albans Town-Franklin 3-2\n",
    "\n",
    "--\n",
    "\n",
    "St. Albans City Ward 1-St. Albans City Ward 1\n",
    "St. Albans City Ward 2-St. Albans City Ward 2\n",
    "St. Albans City Ward 3-St. Albans City Ward 3\n",
    "St. Albans City Ward 4-St. Albans City Ward 4\n",
    "St. Albans City Ward 5-St. Albans City Ward 5\n",
    "St. Albans City Ward 6-St. Albans City Ward 6\n",
    "St. Albans Town-St. Albans Town Voting District\n",
    "\n",
    "--\n",
    "\n",
    "Sunderland-Bennington 3\n",
    "Sunderland-Bennington 4\n",
    "\n",
    "--\n",
    "Sunderland-Sunderland Voting District\n",
    "\n",
    "--\n",
    "\n",
    "Tinmouth-Rutland 2\n",
    "Tinmouth-Rutland-Bennington\n",
    "\n",
    "--\n",
    "\n",
    "Tinmouth-Tinmouth Voting District\n",
    "\n",
    "--\n",
    "\n",
    "Troy-Orleans 2\n",
    "Troy-Orleans-Lamoille\n",
    "\n",
    "--\n",
    "Troy-Troy Voting District\n",
    "\n",
    "--\n",
    "\n",
    "Westminster-Windham 3\n",
    "Westminster-Windham 4\n",
    "\n",
    "--\n",
    "\n",
    "Westminster-Westminster Voting District\n",
    "\n",
    "--\n",
    "\n",
    "Whitingham-Windham 6\n",
    "Whitingham-Windham-Bennington\n",
    "\n",
    "--\n",
    "\n",
    "Whittingham-Whittingham Voting District\n"
   ]
  },
  {
   "cell_type": "code",
   "execution_count": 42,
   "id": "c7cf9d51",
   "metadata": {},
   "outputs": [],
   "source": [
    "name_changes_dict = {'Addison-':'Addison-Addison Voting District',\n",
    "'Albany-':'Albany-Albany Voting District',\n",
    "'Alburgh-':'Alburgh-Alburgh Voting District',\n",
    "'Andover-':'Andover-Andover Voting District',\n",
    "'Arlington-':'Artlington-Artlington Voting District',\n",
    "'Athens-':'Athens-Athens Voting District',\n",
    "'Averill-':'Averill-Averill Voting District',\n",
    "'Bakersfield-':'Bakersfield-Bakersfield Voting District',\n",
    "'Baltimore-':'Baltimore-Baltimore Voting District',\n",
    "'Barnard-':'Barnard-Barnard Voting District',\n",
    "'Barnet-':'Barnet-Barnet Voting District',\n",
    "'Barre Town-':'Barre Town-Barre Town Voting District',\n",
    "'Barton-':'Barton-Barton Voting District',\n",
    "'Belvidere-':'Belvidere-Belvidere Voting District',\n",
    "'Bennington-Bennington 2-1':'Bennignton District 1-Bennignton District 1',\n",
    "'Bennington-Bennington 2-2':'Bennington District 2-Bennington District 2',\n",
    "'Benson-':'Benson-Benson Voting District',\n",
    "'Berkshire-':'Berkshire-Berkshire Voting District',\n",
    "'Berlin-':'Berlin-Berlin Voting District',\n",
    "'Bethel-':'Bethel-Bethel Voting District',\n",
    "'Bloomfield-':'Bloomfield-Bloomfield Voting District',\n",
    "'Bolton-':'Bolton-Bolton Voting District',\n",
    "'Bradford-':'Bradford-Bradford Voting District',\n",
    "'Braintree-':'Braintree-Braintree Voting District',\n",
    "'Brandon-':'Brandon-Brandon Voting District',\n",
    "'Brattleboro-Windham 2-1':'Brattleboro District 1-Brattleboro District 1',\n",
    "'Brattleboro-Windham 2-2':'Brattleboro District 2-Brattleboro District 2',\n",
    "'Brattleboro-Windham 2-3':'Brattleboro District 3-Brattleboro District 3',\n",
    "'Bridgewater-':'Bridgewater-Bridgewater Voting District',\n",
    "'Bridport-':'Bridport-Bridport Voting District',\n",
    "'Brighton-':'Brighton-Brighton Voting District',\n",
    "'Bristol-':'Bristol-Bristol Voting District',\n",
    "'Brookfield-':'Brookfield-Brookfield Voting District',\n",
    "'Brookline-':'Brookline-Brookline Voting District',\n",
    "'Brownington-':'Brownington-Brownington Voting District',\n",
    "'Brunswick-':'Brunswick-Brunswick Voting District',\n",
    "'Buels Gore-':\"Buel's Gore-Buel's Gore Voting District\",\n",
    "'Burke-':'Burke-Burke Voting District',\n",
    "'Cabot-':'Cabot-Cabot Voting District',\n",
    "'Calais-':'Calais-Calais Voting District',\n",
    "'Cambridge-':'Cambridge-Cambridge Voting District',\n",
    "'Canaan-':'Canaan-Canaan Voting District',\n",
    "'Castleton-':'Castleton-Castleton Voting District',\n",
    "'Cavendish-':'Cavendish-Cavendish Voting District',\n",
    "'Charleston-':'Charleston-Charleston Voting District',\n",
    "'Charlotte-':'Charlotte-Charlotte Voting District',\n",
    "'Chelsea-':'Chelsea-Chelsea Voting District',\n",
    "'Chester-':'Chester-Chester Voting District',\n",
    "'Chittenden-':'Chittenden-Chittenden Voting District',\n",
    "'Clarendon-':'Clarendon-Clarendon Voting District',\n",
    "'Concord-':'Concord-Concord Voting District',\n",
    "'Corinth-':'Corinth-Corinth Voting District',\n",
    "'Cornwall-':'Cornwall-Cornwall Voting District',\n",
    "'Coventry-':'Coventry-Coventry Voting District',\n",
    "'Craftsbury-':'Craftsbury-Craftsbury Voting District',\n",
    "'Danby-':'Danby-Danby Voting District',\n",
    "'Danville-':'Danville-Danville Voting District',\n",
    "'Derby-':'Derby-Derby Voting District',\n",
    "'Dorset-':'Dorset-Dorset Voting District',\n",
    "'Dover-':'Dover-Dover Voting District',\n",
    "'Dummerston-':'Dummerston-Dummerston Voting District',\n",
    "'Duxbury-':'Duxbury-Duxbury Voting District',\n",
    "'E. Haven-':'East Haven-East Haven Voting District',\n",
    "'E. Montpelier-':'East Montpelier-East Montpelier Voting District',\n",
    "'Eden-':'Eden-Eden Voting District',\n",
    "'Elmore-':'Elmore-Elmore Voting District',\n",
    "'Enosburgh-':'Enosburgh-Enosburgh Voting District',\n",
    "'Essex-Chittenden 8-1':'Essex District 1-Essex District 1',\n",
    "'Essex-Chittenden 8-2':'Essex District 2-Essex District 2',\n",
    "'Essex-Chittenden 8-3':'Essex District 3-Essex District 3',\n",
    "'Fair Haven-':'Fair Haven-Fair Haven Voting District',\n",
    "'Fairfax-':'Fairfax-Fairfax Voting District',\n",
    "'Fairfield-':'Fairfield-Fairfield Voting District',\n",
    "'Fairlee-':'Fairlee-Fairlee Voting District',\n",
    "'Fayston-':'Fayston-Fayston Voting District',\n",
    "'Ferdinand-':'Ferdinand-Ferdinand Voting District',\n",
    "'Ferrisburgh-':'Ferrisburgh-Ferrisburgh Voting District',\n",
    "'Fletcher-':'Fletcher-Fletcher Voting District',\n",
    "'Franklin-':'Franklin-Franklin Voting District',\n",
    "'Georgia-':'Georgia-Georgia Voting District',\n",
    "'Glastenbury-':'Glastenbury-Glastenbury Voting District',\n",
    "'Glover-':'Glover-Glover Voting District',\n",
    "'Goshen-':'Goshen-Goshen Voting District',\n",
    "'Grafton-':'Grafton-Grafton Voting District',\n",
    "'Granby-':'Granby-Granby Voting District',\n",
    "'Grand Isle-':'Grand Isle-Grand Isle Voting District',\n",
    "'Granville-':'Granville-Granville Voting District',\n",
    "'Greensboro-':'Greensboro-Greensboro Voting District',\n",
    "'Groton-':'Groton-Groton Voting District',\n",
    "'Guildhall-':'Guildhall-Guildhall Voting District',\n",
    "'Guilford-':'Guilford-Guilford Voting District',\n",
    "'Halifax-':'Halifax-Halifax Voting District',\n",
    "'Hancock-':'Hancock-Hancock Voting District',\n",
    "'Hardwick-':'Hardwick-Hardwick Voting District',\n",
    "'Hartford-Windsor 4-1':'Hartford District 1-Hartford District 1',\n",
    "'Hartford-Windsor 4-2':'Hartford District 2-Hartford District 2',\n",
    "'Hartland-':'Hartland-Hartland Voting District',\n",
    "'Highgate-':'Highgate-Highgate Voting District',\n",
    "'Holland-':'Holland-Holland Voting District',\n",
    "'Hubbardton-':'Hubbardton-Hubbardton Voting District',\n",
    "'Huntington-':'Huntington-Huntington Voting District',\n",
    "'Hyde Park-':'Hyde Park-Hyde Park Voting District',\n",
    "'Ira-':'Ira-Ira Voting District',\n",
    "'Irasburg-':'Irasburg-Irasburg Voting District',\n",
    "'Isle La Motte-':'Isle La Motte-Isle La Motte Voting District',\n",
    "'Jamaica-':'Jamacia-Jamacia Voting District',\n",
    "'Jay-':'Jay-Jay Voting District',\n",
    "'Jericho-':'Jericho-Jericho Voting District',\n",
    "'Johnson-':'Johnson-Johnson Voting District',\n",
    "'Killington-':'Killington-Killington Voting District',\n",
    "'Kirby-':'Kirby-Kirby Voting District',\n",
    "'Landgrove-':'Landgrove-Landgrove Voting District',\n",
    "'Leicester-':'Leicester-Leicester Voting District',\n",
    "'Lemington-':'Lemington-Lemington Voting District',\n",
    "'Lincoln-':'Lincoln-Lincoln Voting District',\n",
    "'Londonderry-':'Londonderry-Londonderry Voting District',\n",
    "'Lowell-':'Lowell-Lowell Voting District',\n",
    "'Ludlow-':'Ludlow-Ludlow Voting District',\n",
    "'Lunenburg-':'Luneburg-Luneburg Voting District',\n",
    "'Lyndon-':'Lyndon-Lyndon Voting District',\n",
    "'Maidstone-':'Maidstone-Maidstone Voting District',\n",
    "'Manchester-':'Manchester-Manchester Voting District',\n",
    "'Marlboro-':'Marlboro-Marlboro Voting District',\n",
    "'Marshfield-':'Marshfield-Marshfield Voting District',\n",
    "'Mendon-':'Mendon-Mendon Voting District',\n",
    "'Middlebury-':'Middlebury-Middlebury Voting District',\n",
    "'Middlesex-':'Middlesex-Middlesex Voting District',\n",
    "'Middletown Springs-':'Middletown Springs-Middletown Springs Voting District',\n",
    "'Monkton-':'Monkton-Monkton Voting District',\n",
    "'Montgomery-':'Montgomery-Montgomery Voting District',\n",
    "'Moretown-':'Mooretown-Mooretown Voting District',\n",
    "'Morgan-':'Morgan-Morgan Voting District',\n",
    "'Morristown-':'Morristown-Morristown Voting District',\n",
    "'Mount Holly-':'Mount Holly-Mount Holly Voting District',\n",
    "'Mount Tabor-':'Mount Tabor-Mount Tabor Voting District',\n",
    "'N. Hero-':'North Hero-North Hero Voting District',\n",
    "'New Haven-':'New Haven-New Haven Voting District',\n",
    "'Newark-':'Newark-Newark Voting District',\n",
    "'Newfane-':'Newfane-Newfane Voting District',\n",
    "'Newport City-':'Newport City-Newport City Voting District',\n",
    "'Newport Town-':'Newport Town-Newport Town Voting District',\n",
    "'Northfield-':'Northfield-Northfield Voting District',\n",
    "'Norton-':'Norton-Norton Voting District',\n",
    "'Norwich-':'Norwich-Norwich Voting District',\n",
    "'Orange-':'Orange-Orange Voting District',\n",
    "'Orwell-':'Orwell-Orwell Voting District',\n",
    "'Panton-':'Panton-Panton Voting District',\n",
    "'Pawlet-':'Pawlet-Pawlet Voting District',\n",
    "'Peacham-':'Peacham-Peacham Voting District',\n",
    "'Peru-':'Peru-Peru Voting District',\n",
    "'Pittsfield-':'Pittsfield-Pittsfield Voting District',\n",
    "'Pittsford-':'Pittsford-Pittsford Voting District',\n",
    "'Plainfield-':'Plainfield-Plainfield Voting District',\n",
    "'Plymouth-':'Plymouth-Plymouth Voting District',\n",
    "'Pomfret-':'Pomfret-Pomfret Voting District',\n",
    "'Poultney-':'Poultney-Poultney Voting District',\n",
    "'Pownal-':'Pownal-Pownal Voting District',\n",
    "'Proctor-':'Proctor-Proctor Voting District',\n",
    "'Putney-':'Putney-Putney Voting District',\n",
    "'Randolph-':'Randolph-Randolph Voting District',\n",
    "'Reading-':'Reading-Reading Voting District',\n",
    "'Readsboro-':'Readsboro-Readsboro Voting District',\n",
    "'Richford-':'Richford-Richford Voting District',\n",
    "'Richmond-':'Richmond-Richmond Voting District',\n",
    "'Ripton-':'Ripton-Ripton Voting District',\n",
    "'Rochester-':'Rochester-Rochester Voting District',\n",
    "'Rockingham-':'Rockingham-Rockingham Voting District',\n",
    "'Roxbury-':'Roxbury-Roxbury Voting District',\n",
    "'Royalton-':'Royalton-Royalton Voting District',\n",
    "'Rupert-':'Rupert-Rupert Voting District',\n",
    "'Rutland City-Rutland 5-1':'Rutland City Ward 1-Rutland City Ward 1',\n",
    "'Rutland City-Rutland 5-2':'Rutland City Ward 2-Rutland City Ward 2',\n",
    "'Rutland City-Rutland 5-3':'Rutland City Ward 3-Rutland City Ward 3',\n",
    "'Rutland City-Rutland 5-4':'Rutland City Ward 4-Rutland City Ward 4',\n",
    "'Rutland Town-':'Rutland Town-Rutland Town Voting District',\n",
    "'Ryegate-':'Ryegate-Ryegate Voting District',\n",
    "'S. Burlington-Chittenden 7-1':'South Burlington District 1-South Burlington District 1',\n",
    "'S. Burlington-Chittenden 7-2':'South Burlington District 2-South Burlington District 2',\n",
    "'S. Burlington-Chittenden 7-3':'South Burlington District 3-South Burlington District 3',\n",
    "'S. Burlington-Chittenden 7-4':'South Burlington District 4-South Burlington District 4',\n",
    "'S. Hero-':'South Hero-South Hero Voting District',\n",
    "'Salisbury-':'Salisbury-Salisbury Voting District',\n",
    "'Sandgate-':'Sandgate-Sandgate Voting District',\n",
    "'Searsburg-':'Searsburg-Searsburg Voting District',\n",
    "'Shaftsbury-':'Shaftsbury-Shaftsbury Voting District',\n",
    "'Sharon-':'Sharon-Sharon Voting District',\n",
    "'Sheffield-':'Sheffield-Sheffield Voting District',\n",
    "'Sheldon-':'Sheldon-Sheldon Voting District',\n",
    "'Shoreham-':'Shoreham-Shoreham Voting District',\n",
    "'Shrewsbury-':'Shrewsbury-Shrewsbury Voting District',\n",
    "'St. George-':'Saint George-Saint George Voting District',\n",
    "'St. Johnsbury-':'St. Johnsbury-St. Johnsbury Voting District',\n",
    "'Stamford-':'Stamford-Stamford Voting District',\n",
    "'Stannard-':'Stannard-Stannard Voting District',\n",
    "'Starksboro-':'Starksboro-Starksboro Voting District',\n",
    "'Stockbridge-':'Stockbridge-Stockbridge Voting District',\n",
    "'Stowe-':'Stowe-Stowe Voting District',\n",
    "'Strafford-':'Strafford-Strafford Voting District',\n",
    "'Stratton-':'Stratton-Stratton Voting District',\n",
    "'Sudbury-':'Sudbury-Sudbury Voting District',\n",
    "'Sutton-':'Sutton-Sutton Voting District',\n",
    "'Swanton-':'Swanton-Swanton Voting District',\n",
    "'Thetford-':'Thetford-Thetford Voting District',\n",
    "'Topsham-':'Topsham-Topsham Voting District',\n",
    "'Townshend-':'Townshend-Townshend Voting District',\n",
    "'Tunbridge-':'Tunbridge-Tunbridge Voting District',\n",
    "'Underhill-':'Underhill-Underhill Voting District',\n",
    "'Vergennes-':'Vergennes-Vergennes Voting District',\n",
    "'Vernon-':'Vernon-Vernon Voting District',\n",
    "'Vershire-':'Vershire-Vershire Voting District',\n",
    "'Victory-':'Victory-Victory Voting District',\n",
    "'W. Fairlee-':'West Fairlee-West Fairlee Voting District',\n",
    "'W. Haven-':'West Haven-West Haven Voting District',\n",
    "'W. Rutland-':'West Rutland-West Rutland Voting District',\n",
    "'W. Windsor-':'West Windsor-West Windsor Voting District',\n",
    "'Waitsfield-':'Waitsfield-Waitsfield Voting District',\n",
    "'Walden-':'Walden-Walden Voting District',\n",
    "'Wallingford-':'Wallingford-Wallingford Voting District',\n",
    "'Waltham-':'Waltham-Waltham Voting District',\n",
    "'Wardsboro-':'Wardsboro-Wardsboro Voting District',\n",
    "'Warren-':'Warren-Warren Voting District',\n",
    "'Washington-':'Washington-Washington Voting District',\n",
    "'Waterbury-':'Waterbury-Waterbury Voting District',\n",
    "'Waterford-':'Waterford-Waterford Voting District',\n",
    "'Waterville-':'Waterville-Waterville Voting District',\n",
    "'Weathersfield-':'Weathersfield-Weathersfield Voting District',\n",
    "'Wells-':\"Wells-Wells Voting District\",\n",
    "'Westfield-':'Westfield-Westfield Voting District',\n",
    "'Westford-':'Westford-Westford Voting District',\n",
    "'Westmore-':'Westmore-Westmore Voting District',\n",
    "'Weston-':'Weston-Weston Voting District',\n",
    "'Weybridge-':'Weybridge-Weybridge Voting District',\n",
    "'Wheelock-':'Wheelock-Wheelock Voting District',\n",
    "'Whiting-':'Whiting-Whiting Voting District',\n",
    "'Williamstown-':'Williamstown-Williamstown Voting District',\n",
    "'Williston-':'Williston-Williston Voting District',\n",
    "'Wilmington-':'Wilmington-Wilmington Voting District',\n",
    "'Windham-':'Windham-Windham Voting District',\n",
    "'Windsor-':'Windsor-Windsor Voting District',\n",
    "'Winhall-':'Winhall-Winhall Voting District',\n",
    "'Winooski-':'Winooski-Winooski Voting District',\n",
    "'Wolcott-':'Wolcott-Wolcott Voting District',\n",
    "'Woodbury-':'Woodbury-Woodbury Voting District',\n",
    "'Woodford-':'Woodford-Woodford Voting District',\n",
    "'Woodstock-':'Woodstock-Woodstock Voting District',\n",
    "'Worcester-':'Worcester-Worcester Voting District',}"
   ]
  },
  {
   "cell_type": "code",
   "execution_count": 43,
   "id": "c3a00448",
   "metadata": {},
   "outputs": [],
   "source": [
    "def precinct_merger(precinct_list,new_precinct):\n",
    "    global full_shapefiles_census\n",
    "    prec_holder = []\n",
    "    for i in precinct_list:\n",
    "        prec_holder.append(full_shapefiles_census.loc[full_shapefiles_census[\"join_col\"]==i])\n",
    "    new_geom = pd.concat(prec_holder, ignore_index=True).unary_union\n",
    "    new_prec = gp.GeoDataFrame(geometry=[new_geom],columns=[\"geometry\",\"join_col\"],crs = full_shapefiles_census.crs)\n",
    "    new_prec[\"join_col\"]=new_precinct\n",
    "    full_shapefiles_census = full_shapefiles_census.append(new_prec)\n",
    "    full_shapefiles_census = full_shapefiles_census[~full_shapefiles_census[\"join_col\"].isin(precinct_list)]"
   ]
  },
  {
   "cell_type": "code",
   "execution_count": 44,
   "id": "ccfd8e9e",
   "metadata": {},
   "outputs": [],
   "source": [
    "precinct_merger([\"Barre City Ward 1-Barre City Ward 1\",\"Barre City Ward 2-Barre City Ward 2\",\"Barre City Ward 3-Barre City Ward 3\"],\"Barre City-\")\n",
    "precinct_merger([\"Montpelier District 1-Montpelier District 1\",\"Montpelier District 2-Montpelier District 2\",\"Montpelier District 3-Montpelier District 3\"],\"Montpelier-\")\n",
    "precinct_merger([\"Newbury Town-Newbury Town Voting District\",\"Newbury Village-Newbury Village Voting District\"],\"Newbury-\")"
   ]
  },
  {
   "cell_type": "code",
   "execution_count": 45,
   "id": "0fadb2b4",
   "metadata": {},
   "outputs": [],
   "source": [
    "frame[\"join_col\"] = frame[\"join_col\"].map(name_changes_dict).fillna(frame[\"join_col\"])"
   ]
  },
  {
   "cell_type": "markdown",
   "id": "a92ce626",
   "metadata": {},
   "source": [
    "### Attempt to join"
   ]
  },
  {
   "cell_type": "code",
   "execution_count": 46,
   "id": "515a79e3",
   "metadata": {},
   "outputs": [
    {
     "data": {
      "text/plain": [
       "Windsor-Windsor Voting District              1\n",
       "Warren-Warren Voting District                1\n",
       "Londonderry-Londonderry Voting District      1\n",
       "Westford-Westford Voting District            1\n",
       "Brunswick-Brunswick Voting District          1\n",
       "                                            ..\n",
       "Johnson-Johnson Voting District              1\n",
       "New Haven-New Haven Voting District          1\n",
       "Williamstown-Williamstown Voting District    1\n",
       "Sheffield-Sheffield Voting District          1\n",
       "Orwell-Orwell Voting District                1\n",
       "Name: join_col, Length: 279, dtype: int64"
      ]
     },
     "execution_count": 46,
     "metadata": {},
     "output_type": "execute_result"
    }
   ],
   "source": [
    "frame[\"join_col\"].value_counts()"
   ]
  },
  {
   "cell_type": "code",
   "execution_count": 47,
   "id": "1cb4861b",
   "metadata": {},
   "outputs": [
    {
     "name": "stdout",
     "output_type": "stream",
     "text": [
      "both          249\n",
      "right_only     31\n",
      "left_only      30\n",
      "Name: _merge, dtype: int64\n"
     ]
    }
   ],
   "source": [
    "source_join = pd.merge(frame,full_shapefiles_census,how=\"outer\",on=\"join_col\",indicator=True)\n",
    "print(source_join[\"_merge\"].value_counts())"
   ]
  },
  {
   "cell_type": "code",
   "execution_count": 48,
   "id": "8fc82708",
   "metadata": {},
   "outputs": [
    {
     "name": "stdout",
     "output_type": "stream",
     "text": [
      "279              Sunderland-Sunderland Voting District\n",
      "280                Burlington Ward 1-Burlington Ward 1\n",
      "281                Burlington Ward 2-Burlington Ward 2\n",
      "282                Burlington Ward 3-Burlington Ward 3\n",
      "283                Burlington Ward 4-Burlington Ward 4\n",
      "284                Burlington Ward 5-Burlington Ward 5\n",
      "285                Burlington Ward 6-Burlington Ward 6\n",
      "286                Burlington Ward 7-Burlington Ward 7\n",
      "287                Burlington Ward 8-Burlington Ward 8\n",
      "288              Colchester-Colchester Voting District\n",
      "289                Hinesburg-Hinesburg Voting District\n",
      "290                      Milton-Milton Voting District\n",
      "291                Shelburne-Shelburne Voting District\n",
      "292          Avery's Gore-Avery's Gore Voting District\n",
      "293                        Lewis-Lewis Voting District\n",
      "294      Warner's Grant-Warner's Grant Voting District\n",
      "295        Warren's Gore-Warren's Gore Voting District\n",
      "296      St. Albans City Ward 1-St. Albans City Ward 1\n",
      "297      St. Albans City Ward 2-St. Albans City Ward 2\n",
      "298      St. Albans City Ward 3-St. Albans City Ward 3\n",
      "299      St. Albans City Ward 4-St. Albans City Ward 4\n",
      "300      St. Albans City Ward 5-St. Albans City Ward 5\n",
      "301      St. Albans City Ward 6-St. Albans City Ward 6\n",
      "302    St. Albans Town-St. Albans Town Voting District\n",
      "303            Wells River-Wells River Voting District\n",
      "304                          Troy-Troy Voting District\n",
      "305                  Tinmouth-Tinmouth Voting District\n",
      "306                  Somerset-Somerset Voting District\n",
      "307            Westminster-Westminster Voting District\n",
      "308            Whittingham-Whittingham Voting District\n",
      "309            Springfield-Springfield Voting District\n",
      "Name: join_col, dtype: object\n"
     ]
    }
   ],
   "source": [
    "print(source_join[source_join[\"_merge\"]==\"right_only\"][\"join_col\"])"
   ]
  },
  {
   "cell_type": "code",
   "execution_count": 55,
   "id": "b79d5776",
   "metadata": {},
   "outputs": [
    {
     "name": "stdout",
     "output_type": "stream",
     "text": [
      "['Addison-1', 'Addison-2', 'Addison-3', 'Addison-4', 'Addison-5', 'Addison Rutland', 'Bennington-1', 'Bennington-2-1', 'Bennington-2-2', 'Bennington-3', 'Bennington-4', 'Bennington-Rutland', 'Caledonia-1', 'Caledonia-2', 'Caledonia-3', 'Caledonia-4', 'Caledonia-Washington', 'Chittenden-1', 'Chittenden-10', 'Chittenden-2', 'Chittenden-3', 'Chittenden-4-1', 'Chittenden-4-2', 'Chittenden-5-1', 'Chittenden-5-2', 'Chittenden-6-1', 'Chittenden-6-2', 'Chittenden-6-3', 'Chittenden-6-4', 'Chittenden-6-5', 'Chittenden-6-6', 'Chittenden-6-7', 'Chittenden-7-1', 'Chittenden-7-2', 'Chittenden-7-3', 'Chittenden-7-4', 'Chittenden-8-1', 'Chittenden-8-2', 'Chittenden-8-3', 'Chittenden-9-1', 'Chittenden-9-2', 'Essex-Caledonia', 'Essex-Caledonia-Orleans', 'Franklin-1', 'Franklin-2', 'Franklin-3-1', 'Franklin-3-2', 'Franklin-4', 'Franklin-5', 'Franklin-6', 'Franklin-7', 'Grand Isle-Chittenden', 'Lamoille-1', 'Lamoille-2', 'Lamoille-3', 'Lamoille-Washington', 'Orange-1', 'Orange-2', 'Orange-Caledonia', 'Orange-Washington-Addison', 'Orleans-1', 'Orleans-2', 'Orleans-Caledonia', 'Orleans-Lamoille', 'Rutland-1', 'Rutland-2', 'Rutland-3', 'Rutland-4', 'Rutland-5-1', 'Rutland-5-2', 'Rutland-5-4', 'Rutland-6', 'Rutland-Bennington', 'Rutland-Windsor-1', 'Rutland-Windsor-2', 'Rutland-5-3', 'Washington-1', 'Washington-2', 'Washington-3', 'Washington-4', 'Washington-5', 'Washington-6', 'Washington-7', 'Washington-Chittenden', 'Windham-1', 'Windham-2-1', 'Windham-2-2', 'Windham-2-3', 'Windham-3', 'Windham-4', 'Windham-5', 'Windham-6', 'Windham-Bennington', 'Windham-Bennington-Windsor', 'Windsor-1', 'Windsor-2', 'Windsor-3-1', 'Windsor-3-2', 'Windsor-4-1', 'Windsor-4-2', 'Windsor-5', 'Windsor-Orange-1', 'Windsor-Orange-2', 'Windsor-Rutland']\n"
     ]
    }
   ],
   "source": [
    "print(list(state_distr[\"NAME\"]))"
   ]
  },
  {
   "cell_type": "code",
   "execution_count": 57,
   "id": "bc9f5f44",
   "metadata": {},
   "outputs": [
    {
     "data": {
      "text/plain": [
       "<AxesSubplot:>"
      ]
     },
     "execution_count": 57,
     "metadata": {},
     "output_type": "execute_result"
    },
    {
     "data": {
      "image/png": "[encoded data removed]",
      "text/plain": [
       "<Figure size 432x288 with 1 Axes>"
      ]
     },
     "metadata": {
      "needs_background": "light"
     },
     "output_type": "display_data"
    }
   ],
   "source": [
    "\n",
    "\n",
    "sub_list = ['Chittenden-6-1', 'Chittenden-6-2', 'Chittenden-6-3', 'Chittenden-6-4', 'Chittenden-6-5', 'Chittenden-6-6', 'Chittenden-6-7'\n",
    "'Chittenden-4-1', 'Chittenden-4-2',\n",
    "'Chittenden-9-1', 'Chittenden-9-2',\n",
    "'Chittenden-10','Grand Isle-Chittenden',\n",
    "'Chittenden-5-1', 'Chittenden-5-2',\n",
    "'Windsor-3-1', 'Windsor-3-2',\n",
    "'Franklin-3-1', 'Franklin-3-2',\n",
    "'Bennington-3', 'Bennington-4',\n",
    "'Rutland-2','Orleans-2','Orleans-Lamoille',\n",
    "'Windham-3', 'Windham-4','Windham-6',\n",
    "'Windham-Bennington']\n",
    "\n",
    "state_distr[state_distr[\"NAME\"].isin(sub_list)].plot()"
   ]
  },
  {
   "cell_type": "code",
   "execution_count": 61,
   "id": "f76d95fb",
   "metadata": {},
   "outputs": [
    {
     "data": {
      "text/plain": [
       "<AxesSubplot:>"
      ]
     },
     "execution_count": 61,
     "metadata": {},
     "output_type": "execute_result"
    },
    {
     "data": {
      "image/png": "[encoded data removed]",
      "text/plain": [
       "<Figure size 432x288 with 1 Axes>"
      ]
     },
     "metadata": {
      "needs_background": "light"
     },
     "output_type": "display_data"
    }
   ],
   "source": [
    "gp.GeoDataFrame(source_join[source_join[\"_merge\"]==\"right_only\"]).plot()"
   ]
  },
  {
   "cell_type": "code",
   "execution_count": 49,
   "id": "3ffc3f0c",
   "metadata": {},
   "outputs": [
    {
     "name": "stdout",
     "output_type": "stream",
     "text": [
      "37         Burlington-Chittenden 6-1\n",
      "38         Burlington-Chittenden 6-2\n",
      "39         Burlington-Chittenden 6-3\n",
      "40         Burlington-Chittenden 6-4\n",
      "41         Burlington-Chittenden 6-5\n",
      "42         Burlington-Chittenden 6-6\n",
      "43         Burlington-Chittenden 6-7\n",
      "56         Colchester-Chittenden 9-1\n",
      "57         Colchester-Chittenden 9-2\n",
      "104         Hinesburg-Chittenden 4-1\n",
      "105         Hinesburg-Chittenden 4-2\n",
      "136             Milton-Chittenden 10\n",
      "137     Milton-Grand Isle-Chittenden\n",
      "194         Shelburne-Chittenden 5-1\n",
      "195         Shelburne-Chittenden 5-2\n",
      "204          Springfield-Windsor 3-1\n",
      "205          Springfield-Windsor 3-2\n",
      "206                 St. Albans City-\n",
      "207     St. Albans Town-Franklin 3-1\n",
      "208     St. Albans Town-Franklin 3-2\n",
      "219          Sunderland-Bennington 3\n",
      "220          Sunderland-Bennington 4\n",
      "224               Tinmouth-Rutland 2\n",
      "225      Tinmouth-Rutland-Bennington\n",
      "228                   Troy-Orleans 2\n",
      "229            Troy-Orleans-Lamoille\n",
      "254            Westminster-Windham 3\n",
      "255            Westminster-Windham 4\n",
      "261             Whitingham-Windham 6\n",
      "262    Whitingham-Windham-Bennington\n",
      "Name: join_col, dtype: object\n"
     ]
    }
   ],
   "source": [
    "print(source_join[source_join[\"_merge\"]==\"left_only\"][\"join_col\"])"
   ]
  },
  {
   "cell_type": "markdown",
   "id": "bea258ab",
   "metadata": {},
   "source": [
    "### Look into unjoined precincts"
   ]
  },
  {
   "cell_type": "code",
   "execution_count": null,
   "id": "21e7eefd",
   "metadata": {},
   "outputs": [],
   "source": [
    "print(source_join[source_join[\"_merge\"]==\"right_only\"][\"join_col\"])"
   ]
  },
  {
   "cell_type": "markdown",
   "id": "1791d2ee",
   "metadata": {},
   "source": [
    "### Deal with no-vote precincts"
   ]
  },
  {
   "cell_type": "markdown",
   "id": "27473181",
   "metadata": {},
   "source": [
    "Since VEST does not mention these in their documentation, nor a source for how they know when to allocate votes to precincts, we want to check whether it's reasonable to add these as no-vote precincts, without any vote allocation.\n",
    "\n",
    "This is what VEST did, so this step is also verifying some of their work."
   ]
  },
  {
   "cell_type": "code",
   "execution_count": null,
   "id": "6dfa3af3",
   "metadata": {},
   "outputs": [],
   "source": [
    "acs_empty_precincts = pd.read_csv(\"./raw-from-source/ACS/Empty_Precincts/ACSST5Y2018.S0101_2021-05-24T115339/ACSST5Y2018.S0101_data_with_overlays_2021-05-24T115321.csv\")"
   ]
  },
  {
   "cell_type": "code",
   "execution_count": null,
   "id": "5fc16fc8",
   "metadata": {},
   "outputs": [],
   "source": [
    "acs_empty_precincts.columns = acs_empty_precincts.iloc[0]\n",
    "acs_empty_precincts = acs_empty_precincts.drop([0])\n",
    "\n",
    "#Filter to relevant columns\n",
    "acs_empty_precincts = acs_empty_precincts[[\"Geographic Area Name\",\"Estimate!!Total!!Total population\",\"Margin of Error!!Total MOE!!Total population\"]]\n",
    "\n",
    "#Remove an area that was downloaded but not relevant to this analysis\n",
    "acs_empty_precincts = acs_empty_precincts[acs_empty_precincts[\"Geographic Area Name\"]!=\"Buels gore, Chittenden County, Vermont\"]\n",
    "\n",
    "#As you can see all of these 5 have a 0 population estimate, so it makes sense to add these as 0 pop. precincts\n",
    "acs_empty_precincts"
   ]
  },
  {
   "cell_type": "markdown",
   "id": "f390f300",
   "metadata": {},
   "source": [
    "### Add the zero-vote precincts"
   ]
  },
  {
   "cell_type": "code",
   "execution_count": null,
   "id": "c13b7efa",
   "metadata": {},
   "outputs": [],
   "source": [
    "new_df = pd.DataFrame([[\"Avery's gore\",\"\",    0,0,0,0,0,0,0,0,0,0,0,0,0,0,0,0,0,0,0,0,0,0,0,0,0,0,0,0,0,0,0,0,0,0,0,0,0,0,0,0,0,0,\"Avery's gore-ESX-CAL-ORL\"],\n",
    "                       [\"Lewis town\",\"\", 0,0,0,0,0,0,0,0,0,0,0,0,0,0,0,0,0,0,0,0,0,0,0,0,0,0,0,0,0,0,0,0,0,0,0,0,0,0,0,0,0,0,\"Lewis town-ESX-CAL-ORL\"],\n",
    "                       [\"Warner's grant\",\"\",  0,0,0,0,0,0,0,0,0,0,0,0,0,0,0,0,0,0,0,0,0,0,0,0,0,0,0,0,0,0,0,0,0,0,0,0,0,0,0,0,0,0,\"Warner's grant-ESX-CAL-ORL\"],\n",
    "                       [\"Warren's gore\",\"\",0,0,0,0,0,0,0,0,0,0,0,0,0,0,0,0,0,0,0,0,0,0,0,0,0,0,0,0,0,0,0,0,0,0,0,0,0,0,0,0,0,0,\"Warren's gore-ESX-CAL-ORL\"],\n",
    "                       [\"Somerset town\",\"\",0,0,0,0,0,0,0,0,0,0,0,0,0,0,0,0,0,0,0,0,0,0,0,0,0,0,0,0,0,0,0,0,0,0,0,0,0,0,0,0,0,0,\"Somerset town-WDH-BEN\"]]\n",
    "                      ,columns=frame.columns)\n",
    "frame = frame.append(new_df)\n",
    "frame.reset_index(inplace=True,drop=True)"
   ]
  },
  {
   "cell_type": "markdown",
   "id": "f16a8002",
   "metadata": {},
   "source": [
    "### Attempt to join again"
   ]
  },
  {
   "cell_type": "code",
   "execution_count": null,
   "id": "488004ea",
   "metadata": {},
   "outputs": [],
   "source": [
    "source_join = pd.merge(frame,fig,how=\"outer\",on=\"join_col\",indicator=True)\n",
    "print(source_join[\"_merge\"].value_counts())"
   ]
  },
  {
   "cell_type": "markdown",
   "id": "4b153dd7",
   "metadata": {},
   "source": [
    "## Join Source File to VEST File"
   ]
  },
  {
   "cell_type": "markdown",
   "id": "2be58e69",
   "metadata": {},
   "source": [
    "### Clean columns"
   ]
  },
  {
   "cell_type": "code",
   "execution_count": null,
   "id": "7e652684",
   "metadata": {},
   "outputs": [],
   "source": [
    "print(fig.head())"
   ]
  },
  {
   "cell_type": "code",
   "execution_count": null,
   "id": "b662d383",
   "metadata": {},
   "outputs": [],
   "source": [
    "print(vest_vt_20.columns)"
   ]
  },
  {
   "cell_type": "code",
   "execution_count": null,
   "id": "013d8e2e",
   "metadata": {},
   "outputs": [],
   "source": [
    "print(source_join.head())"
   ]
  },
  {
   "cell_type": "code",
   "execution_count": null,
   "id": "a7fd41ab",
   "metadata": {},
   "outputs": [],
   "source": [
    "source_join = source_join[['COUNTYFP10',\"NAME10\",\"NAMELSAD10\",\"DISTRICT\",\"NAME\",'G18USSISAN', 'G18USSRZUP', 'G18USSIPEA', 'G18USSIBES', 'G18USSIGIL',\n",
    "       'G18USSIADE', 'G18USSISVI', 'G18USSIBUS', 'G18USSOKAN', 'G18USSOWRI',\n",
    "       'G18HALDWEL', 'G18HALRTYN', 'G18HALIERI', 'G18HALOPOT', 'G18HALOWRI',\n",
    "       'G18GOVDHAL', 'G18GOVRSCO', 'G18GOVIBAR', 'G18GOVILAR', 'G18GOVIERI',\n",
    "       'G18GOVOMAR', 'G18GOVOPEY', 'G18GOVOWRI', 'G18LTGPZUC', 'G18LTGRTUR',\n",
    "       'G18LTGONGO', 'G18LTGOWRI', 'G18ATGDDON', 'G18ATGRWIL', 'G18ATGOJAC',\n",
    "       'G18ATGOWRI', 'G18SOSDCON', 'G18SOSRPAI', 'G18SOSOHEB', 'G18SOSOWRI',\n",
    "       'G18TREDPEA', 'G18TRERMOR', 'G18TREOWRI', 'G18AUDDHOF', 'G18AUDRKEN',\n",
    "       'G18AUDOBRO', 'G18AUDOWRI', 'geometry']]"
   ]
  },
  {
   "cell_type": "markdown",
   "id": "04c86ba1",
   "metadata": {},
   "source": [
    "### Define a unique ID for the final join"
   ]
  },
  {
   "cell_type": "code",
   "execution_count": null,
   "id": "fac88183",
   "metadata": {},
   "outputs": [],
   "source": [
    "source_join[\"final_join_col\"]=source_join[\"NAMELSAD10\"]+\"-\"+source_join[\"NAME\"]+\" State House District\""
   ]
  },
  {
   "cell_type": "markdown",
   "id": "38518cb8",
   "metadata": {},
   "source": [
    "### Create a unique ID for VEST"
   ]
  },
  {
   "cell_type": "code",
   "execution_count": null,
   "id": "4560b5ca",
   "metadata": {},
   "outputs": [],
   "source": [
    "print(vest_vt_20.shape)\n",
    "print(len((vest_vt_20[\"NAMELSAD\"]+\"-\"+vest_vt_20[\"NAMELSAD_1\"]).unique()))\n",
    "vest_vt_20[\"final_join_col\"]=vest_vt_20[\"NAMELSAD\"]+\"-\"+vest_vt_20[\"NAMELSAD_1\"]"
   ]
  },
  {
   "cell_type": "code",
   "execution_count": null,
   "id": "78a17e14",
   "metadata": {},
   "outputs": [],
   "source": [
    "final_merge = pd.merge(vest_vt_20,source_join,how=\"outer\",on=\"final_join_col\",indicator=\"final_merge\")\n",
    "final_merge[\"final_merge\"].value_counts()"
   ]
  },
  {
   "cell_type": "markdown",
   "id": "255d0308",
   "metadata": {},
   "source": [
    "### Modify Columns"
   ]
  },
  {
   "cell_type": "code",
   "execution_count": null,
   "id": "7bd37ea7",
   "metadata": {},
   "outputs": [],
   "source": [
    "source_to_vest_changes_dict = {'Alburg town-Grand Isle-Chittenden State House District': 'Alburgh town-Grand-Isle-Chittenden State House District', 'Benson town-Addison Rutland State House District': 'Benson town-Addison-Rutland State House District', 'Enosburg town-Franklin-7 State House District': 'Enosburgh town-Franklin-7 State House District', 'Grand Isle town-Grand Isle-Chittenden State House District': 'Grand Isle town-Grand-Isle-Chittenden State House District', 'Isle La Motte town-Grand Isle-Chittenden State House District': 'Isle La Motte town-Grand-Isle-Chittenden State House District', 'Milton town-Grand Isle-Chittenden State House District': 'Milton town-Grand-Isle-Chittenden State House District', 'North Hero town-Grand Isle-Chittenden State House District': 'North Hero town-Grand-Isle-Chittenden State House District', 'Orwell town-Addison Rutland State House District': 'Orwell town-Addison-Rutland State House District', 'Shoreham town-Addison Rutland State House District': 'Shoreham town-Addison-Rutland State House District', 'South Hero town-Grand Isle-Chittenden State House District': 'South Hero town-Grand-Isle-Chittenden State House District', 'Whiting town-Addison Rutland State House District': 'Whiting town-Addison-Rutland State House District'}\n",
    "\n",
    "source_join[\"final_join_col\"] = source_join[\"final_join_col\"].map(source_to_vest_changes_dict).fillna(source_join[\"final_join_col\"])\n"
   ]
  },
  {
   "cell_type": "code",
   "execution_count": null,
   "id": "b6f3ed3a",
   "metadata": {},
   "outputs": [],
   "source": [
    "final_merge = pd.merge(vest_vt_20,source_join,how=\"outer\",on=\"final_join_col\",indicator=\"final_merge\")\n",
    "final_merge[\"final_merge\"].value_counts()"
   ]
  },
  {
   "cell_type": "markdown",
   "id": "f30d21c0",
   "metadata": {},
   "source": [
    "## Validate Election Results"
   ]
  },
  {
   "cell_type": "markdown",
   "id": "c81e1653",
   "metadata": {},
   "source": [
    "### County-by-county"
   ]
  },
  {
   "cell_type": "markdown",
   "id": "a1372aff",
   "metadata": {},
   "source": [
    "The only difference is the one explained above with the 148 votes."
   ]
  },
  {
   "cell_type": "code",
   "execution_count": null,
   "id": "c3a52c57",
   "metadata": {},
   "outputs": [],
   "source": [
    "diff_counties=[]\n",
    "print(\"Counties with differences will be printed below:\")\n",
    "for i in data_columns:\n",
    "    diff = source_join.groupby([\"COUNTYFP10\"]).sum()[i]-vest_vt_20.groupby([\"COUNTYFP\"]).sum()[i]\n",
    "    for val in diff[diff != 0].index.values.tolist():\n",
    "        if val not in diff_counties:\n",
    "            diff_counties.append(val)\n",
    "    if len(diff[diff != 0]!=0):\n",
    "        print(diff[diff != 0].to_string(header=False))\n",
    "print(\"\")\n",
    "print(\"All other races in all counties are equal\")"
   ]
  },
  {
   "cell_type": "markdown",
   "id": "48cbbe08",
   "metadata": {},
   "source": [
    "### Precinct-by-precinct"
   ]
  },
  {
   "cell_type": "code",
   "execution_count": null,
   "id": "39988564",
   "metadata": {},
   "outputs": [],
   "source": [
    "def validater_row (df, column_List):\n",
    "    matching_rows = 0\n",
    "    different_rows = 0\n",
    "    diff_list=[]\n",
    "    diff_values = []\n",
    "    max_diff = 0\n",
    "    for j in range(0,len(df.index)):\n",
    "        same = True\n",
    "        for i in column_List:\n",
    "            left_Data = i + \"_x\"\n",
    "            right_Data = i + \"_y\"\n",
    "            diff = abs(df.iloc[j][left_Data]-df.iloc[j][right_Data])\n",
    "            if(diff >0):\n",
    "                if(diff>0):\n",
    "                    print(i, \"{:.>72}\".format(df.iloc[j][\"final_join_col\"]), \"(V)\",\"{:.>5}\".format(int(df.iloc[j][left_Data])),\" (S){:.>5}\".format(int(df.iloc[j][right_Data])),\"(D):{:>5}\".format(int(df.iloc[j][right_Data])-int(df.iloc[j][left_Data])))           \n",
    "                #print(df.iloc[j]['countypct'])\n",
    "                \n",
    "                diff_values.append(abs(diff))\n",
    "                same = False\n",
    "                if(np.isnan(diff)):\n",
    "                    print(\"NaN value at diff is: \", df.iloc[j][\"final_join_col\"])\n",
    "                    print(df.iloc[j][left_Data])\n",
    "                    print(df.iloc[j][right_Data])\n",
    "                if (diff>max_diff):\n",
    "                    max_diff = diff\n",
    "                    #print(\"New max diff is: \", str(max_diff))\n",
    "                    #print(df.iloc[j]['cty_pct'])\n",
    "        if(same != True):\n",
    "            different_rows +=1\n",
    "            diff_list.append(df.iloc[j][\"final_join_col\"])\n",
    "        else:\n",
    "            matching_rows +=1\n",
    "    print(\"\")\n",
    "    print(\"There are \", len(df.index),\" total rows\")\n",
    "    print(different_rows,\" of these rows have election result differences\")\n",
    "    print(matching_rows,\" of these rows are the same\")\n",
    "    print(\"\")\n",
    "    print(\"The max difference between any one shared column in a row is: \", max_diff)\n",
    "    if(len(diff_values)!=0):\n",
    "        print(\"The average difference is: \", str(sum(diff_values)/len(diff_values)))\n",
    "    count_big_diff = len([i for i in diff_values if i > 10])\n",
    "    print(\"There are \", str(count_big_diff), \"precinct results with a difference greater than 10\")\n",
    "    diff_list.sort()\n",
    "    print(diff_list)"
   ]
  },
  {
   "cell_type": "code",
   "execution_count": null,
   "id": "3577c8d3",
   "metadata": {},
   "outputs": [],
   "source": [
    "validater_row(final_merge,data_columns)"
   ]
  },
  {
   "cell_type": "markdown",
   "id": "181e4f75",
   "metadata": {},
   "source": [
    "The only difference is 1 vote allocated differently from how VEST does, this is likely a rounding difference."
   ]
  },
  {
   "cell_type": "markdown",
   "id": "8e03a3b3",
   "metadata": {},
   "source": [
    "## Validate Geometry"
   ]
  },
  {
   "cell_type": "code",
   "execution_count": null,
   "id": "091e54d0",
   "metadata": {},
   "outputs": [],
   "source": [
    "print(final_merge.columns)"
   ]
  },
  {
   "cell_type": "code",
   "execution_count": null,
   "id": "8d381ffb",
   "metadata": {},
   "outputs": [],
   "source": [
    "both = final_merge[final_merge[\"final_merge\"]==\"both\"]\n",
    "vest_geoms = gp.GeoDataFrame(both,geometry=\"geometry_x\",crs=vest_vt_20.crs)\n",
    "source_geoms = gp.GeoDataFrame(both,geometry=\"geometry_y\",crs=vest_vt_20.crs)\n",
    "source_geoms = source_geoms.to_crs(3857)\n",
    "vest_geoms = vest_geoms.to_crs(3857)\n",
    "source_geoms[\"geometry_x\"]=source_geoms.buffer(0)\n",
    "vest_geoms[\"geometry_y\"]=vest_geoms.buffer(0)\n",
    "vals = source_geoms.geom_almost_equals(vest_geoms,decimal=0)\n",
    "print(vals.value_counts())"
   ]
  },
  {
   "cell_type": "code",
   "execution_count": null,
   "id": "0189a6c1",
   "metadata": {},
   "outputs": [],
   "source": [
    "count = 0\n",
    "area_list = []\n",
    "for i in range(0,len(source_geoms)):\n",
    "    diff = source_geoms.iloc[[i]].symmetric_difference(vest_geoms.iloc[[i]])\n",
    "    intersection = source_geoms.iloc[[i]].intersection(vest_geoms.iloc[[i]])\n",
    "    area = float(diff.area/10e6)\n",
    "    area_list.append(area)\n",
    "    #print(\"Area is \" + str(area))\n",
    "\n",
    "    if (area > .1):\n",
    "        count += 1\n",
    "        name = source_geoms.iat[i,2]\n",
    "        \n",
    "        print(str(count)+\") For \" + name + \" difference in area is \" + str(area))\n",
    "        if (intersection.iloc[0].is_empty):\n",
    "            base = diff.plot(color=\"red\")\n",
    "            source_geoms.iloc[[i]].plot(color=\"orange\",ax=base)\n",
    "            vest_geoms.iloc[[i]].plot(color=\"blue\",ax=base)\n",
    "            base.set_title(name)\n",
    "        else:\n",
    "            base = diff.plot(color=\"red\")\n",
    "            source_geoms.iloc[[i]].plot(color=\"orange\",ax=base)\n",
    "            vest_geoms.iloc[[i]].plot(color=\"blue\",ax=base)\n",
    "            intersection.plot(color=\"green\",ax=base)\n",
    "            base.set_title(name)"
   ]
  },
  {
   "cell_type": "code",
   "execution_count": null,
   "id": "e119469b",
   "metadata": {
    "scrolled": true
   },
   "outputs": [],
   "source": [
    "df = pd.DataFrame(area_list)\n",
    "print(df.shape)\n",
    "\n",
    "print(str(len(df[df[0]==0]))+\" precincts w/ a difference of 0 km^2\")\n",
    "print(str(len(df[(df[0]<.1) & (df[0]>0)]))+ \" precincts w/ a difference between 0 and .1 km^2\")\n",
    "print(str(len(df[(df[0]<.5) & (df[0]>=.1)]))+ \" precincts w/ a difference between .1 and .5 km^2\")\n",
    "print(str(len(df[(df[0]<1) & (df[0]>=.5)]))+ \" precincts w/ a difference between .5 and 1 km^2\")\n",
    "print(str(len(df[(df[0]<2) & (df[0]>=1)]))+ \" precincts w/ a difference between 1 and 2 km^2\")\n",
    "print(str(len(df[(df[0]<5) & (df[0]>=2)]))+ \" precincts w/ a difference between 2 and 5 km^2\")\n",
    "print(str(len(df[(df[0]>=5)]))+ \" precincts w/ a difference greater than 5 km^2\")"
   ]
  },
  {
   "cell_type": "markdown",
   "id": "75c3c1f6",
   "metadata": {},
   "source": [
    "### Look into Warren's Gore & Norton Town Difference"
   ]
  },
  {
   "cell_type": "markdown",
   "id": "ebcc1303",
   "metadata": {},
   "source": [
    "Checking to see if there was a shapefile processing error on our end, and this does not seem to be the case."
   ]
  },
  {
   "cell_type": "code",
   "execution_count": null,
   "id": "3695dcb5",
   "metadata": {},
   "outputs": [],
   "source": [
    "ax = state_distr[state_distr[\"NAME\"]==\"Essex-Caledonia-Orleans\"].plot(color=\"red\")\n",
    "limits = county_sub[county_sub[\"NAME10\"]==\"Warren's\"].total_bounds\n",
    "xlim = ([limits[0],limits[2]])\n",
    "ylim = ([limits[1],limits[3]])\n",
    "ax.set_xlim(xlim)\n",
    "ax.set_ylim(ylim)\n",
    "county_sub[county_sub[\"NAME10\"]==\"Warren's\"].exterior.plot(ax=ax,color=\"blue\")"
   ]
  },
  {
   "cell_type": "code",
   "execution_count": null,
   "id": "09987701",
   "metadata": {},
   "outputs": [],
   "source": [
    "ax = state_distr[state_distr[\"NAME\"]==\"Essex-Caledonia-Orleans\"].plot(color=\"red\")\n",
    "limits = county_sub[county_sub[\"NAME10\"]==\"Norton\"].total_bounds\n",
    "xlim = ([limits[0],limits[2]])\n",
    "ylim = ([limits[1],limits[3]])\n",
    "ax.set_xlim(xlim)\n",
    "ax.set_ylim(ylim)\n",
    "county_sub[county_sub[\"NAME10\"]==\"Norton\"].exterior.plot(ax=ax,color=\"blue\")"
   ]
  },
  {
   "cell_type": "code",
   "execution_count": null,
   "id": "ec99458c",
   "metadata": {},
   "outputs": [],
   "source": []
  }
 ],
 "metadata": {
  "kernelspec": {
   "display_name": "Python 3",
   "language": "python",
   "name": "python3"
  },
  "language_info": {
   "codemirror_mode": {
    "name": "ipython",
    "version": 3
   },
   "file_extension": ".py",
   "mimetype": "text/x-python",
   "name": "python",
   "nbconvert_exporter": "python",
   "pygments_lexer": "ipython3",
   "version": "3.9.2"
  }
 },
 "nbformat": 4,
 "nbformat_minor": 5
}
